{
  "nbformat": 4,
  "nbformat_minor": 0,
  "metadata": {
    "colab": {
      "provenance": [],
      "authorship_tag": "ABX9TyMBhyZhJRC8IFEmdU0RvPlK",
      "include_colab_link": true
    },
    "kernelspec": {
      "name": "python3",
      "display_name": "Python 3"
    },
    "language_info": {
      "name": "python"
    }
  },
  "cells": [
    {
      "cell_type": "markdown",
      "metadata": {
        "id": "view-in-github",
        "colab_type": "text"
      },
      "source": [
        "<a href=\"https://colab.research.google.com/github/Khatija-Begum/ATS-Resume-Screening/blob/main/ATS(RESUME_CHECK).ipynb\" target=\"_parent\"><img src=\"https://colab.research.google.com/assets/colab-badge.svg\" alt=\"Open In Colab\"/></a>"
      ]
    },
    {
      "cell_type": "code",
      "execution_count": null,
      "metadata": {
        "id": "bPeKFamAeMXP"
      },
      "outputs": [],
      "source": [
        "import pandas as pd\n",
        "import numpy as np\n",
        "import seaborn as sns\n",
        "import matplotlib.pyplot as plt\n"
      ]
    },
    {
      "cell_type": "code",
      "source": [
        "df=pd.read_csv('Resume.csv')"
      ],
      "metadata": {
        "id": "1YJqw5-sebFz"
      },
      "execution_count": null,
      "outputs": []
    },
    {
      "cell_type": "code",
      "source": [
        "df.sample(10)"
      ],
      "metadata": {
        "colab": {
          "base_uri": "https://localhost:8080/",
          "height": 363
        },
        "id": "aO2j9RHbel6Z",
        "outputId": "58249c1b-7a57-450b-cdf6-a30a5a462644"
      },
      "execution_count": null,
      "outputs": [
        {
          "output_type": "execute_result",
          "data": {
            "text/plain": [
              "               Category                                             Resume\n",
              "754              Hadoop  Technical Skills Programming Languages: C, C++...\n",
              "254               Sales  Skill Sets: â¢ Multi-tasking â¢ Collaborativ...\n",
              "766              Hadoop  Areas of expertise â¢ Big Data Ecosystems: Ha...\n",
              "52                   HR  I.T. Skills â¢ Windows XP, Ms Office (Word, E...\n",
              "439       SAP Developer  Education Details \\r\\nJuly 2008 to February 20...\n",
              "520  Operations Manager  KEY COMPETENCIES â¶Multi - Operations Managem...\n",
              "381      Java Developer  TECHNICALSKILLS SpringMVC, Hibernate, JDBC, Ja...\n",
              "868          Blockchain  Skills Strong CS fundamentals and problem solv...\n",
              "612     DevOps Engineer  Skills VISA B1-VISA (USA) Onsite Visits to Swe...\n",
              "476  Automation Testing  Technical Skills Summary I have completed \"COR..."
            ],
            "text/html": [
              "\n",
              "  <div id=\"df-6f980f50-ce36-41c6-819b-42e36f34ede0\" class=\"colab-df-container\">\n",
              "    <div>\n",
              "<style scoped>\n",
              "    .dataframe tbody tr th:only-of-type {\n",
              "        vertical-align: middle;\n",
              "    }\n",
              "\n",
              "    .dataframe tbody tr th {\n",
              "        vertical-align: top;\n",
              "    }\n",
              "\n",
              "    .dataframe thead th {\n",
              "        text-align: right;\n",
              "    }\n",
              "</style>\n",
              "<table border=\"1\" class=\"dataframe\">\n",
              "  <thead>\n",
              "    <tr style=\"text-align: right;\">\n",
              "      <th></th>\n",
              "      <th>Category</th>\n",
              "      <th>Resume</th>\n",
              "    </tr>\n",
              "  </thead>\n",
              "  <tbody>\n",
              "    <tr>\n",
              "      <th>754</th>\n",
              "      <td>Hadoop</td>\n",
              "      <td>Technical Skills Programming Languages: C, C++...</td>\n",
              "    </tr>\n",
              "    <tr>\n",
              "      <th>254</th>\n",
              "      <td>Sales</td>\n",
              "      <td>Skill Sets: â¢ Multi-tasking â¢ Collaborativ...</td>\n",
              "    </tr>\n",
              "    <tr>\n",
              "      <th>766</th>\n",
              "      <td>Hadoop</td>\n",
              "      <td>Areas of expertise â¢ Big Data Ecosystems: Ha...</td>\n",
              "    </tr>\n",
              "    <tr>\n",
              "      <th>52</th>\n",
              "      <td>HR</td>\n",
              "      <td>I.T. Skills â¢ Windows XP, Ms Office (Word, E...</td>\n",
              "    </tr>\n",
              "    <tr>\n",
              "      <th>439</th>\n",
              "      <td>SAP Developer</td>\n",
              "      <td>Education Details \\r\\nJuly 2008 to February 20...</td>\n",
              "    </tr>\n",
              "    <tr>\n",
              "      <th>520</th>\n",
              "      <td>Operations Manager</td>\n",
              "      <td>KEY COMPETENCIES â¶Multi - Operations Managem...</td>\n",
              "    </tr>\n",
              "    <tr>\n",
              "      <th>381</th>\n",
              "      <td>Java Developer</td>\n",
              "      <td>TECHNICALSKILLS SpringMVC, Hibernate, JDBC, Ja...</td>\n",
              "    </tr>\n",
              "    <tr>\n",
              "      <th>868</th>\n",
              "      <td>Blockchain</td>\n",
              "      <td>Skills Strong CS fundamentals and problem solv...</td>\n",
              "    </tr>\n",
              "    <tr>\n",
              "      <th>612</th>\n",
              "      <td>DevOps Engineer</td>\n",
              "      <td>Skills VISA B1-VISA (USA) Onsite Visits to Swe...</td>\n",
              "    </tr>\n",
              "    <tr>\n",
              "      <th>476</th>\n",
              "      <td>Automation Testing</td>\n",
              "      <td>Technical Skills Summary I have completed \"COR...</td>\n",
              "    </tr>\n",
              "  </tbody>\n",
              "</table>\n",
              "</div>\n",
              "    <div class=\"colab-df-buttons\">\n",
              "\n",
              "  <div class=\"colab-df-container\">\n",
              "    <button class=\"colab-df-convert\" onclick=\"convertToInteractive('df-6f980f50-ce36-41c6-819b-42e36f34ede0')\"\n",
              "            title=\"Convert this dataframe to an interactive table.\"\n",
              "            style=\"display:none;\">\n",
              "\n",
              "  <svg xmlns=\"http://www.w3.org/2000/svg\" height=\"24px\" viewBox=\"0 -960 960 960\">\n",
              "    <path d=\"M120-120v-720h720v720H120Zm60-500h600v-160H180v160Zm220 220h160v-160H400v160Zm0 220h160v-160H400v160ZM180-400h160v-160H180v160Zm440 0h160v-160H620v160ZM180-180h160v-160H180v160Zm440 0h160v-160H620v160Z\"/>\n",
              "  </svg>\n",
              "    </button>\n",
              "\n",
              "  <style>\n",
              "    .colab-df-container {\n",
              "      display:flex;\n",
              "      gap: 12px;\n",
              "    }\n",
              "\n",
              "    .colab-df-convert {\n",
              "      background-color: #E8F0FE;\n",
              "      border: none;\n",
              "      border-radius: 50%;\n",
              "      cursor: pointer;\n",
              "      display: none;\n",
              "      fill: #1967D2;\n",
              "      height: 32px;\n",
              "      padding: 0 0 0 0;\n",
              "      width: 32px;\n",
              "    }\n",
              "\n",
              "    .colab-df-convert:hover {\n",
              "      background-color: #E2EBFA;\n",
              "      box-shadow: 0px 1px 2px rgba(60, 64, 67, 0.3), 0px 1px 3px 1px rgba(60, 64, 67, 0.15);\n",
              "      fill: #174EA6;\n",
              "    }\n",
              "\n",
              "    .colab-df-buttons div {\n",
              "      margin-bottom: 4px;\n",
              "    }\n",
              "\n",
              "    [theme=dark] .colab-df-convert {\n",
              "      background-color: #3B4455;\n",
              "      fill: #D2E3FC;\n",
              "    }\n",
              "\n",
              "    [theme=dark] .colab-df-convert:hover {\n",
              "      background-color: #434B5C;\n",
              "      box-shadow: 0px 1px 3px 1px rgba(0, 0, 0, 0.15);\n",
              "      filter: drop-shadow(0px 1px 2px rgba(0, 0, 0, 0.3));\n",
              "      fill: #FFFFFF;\n",
              "    }\n",
              "  </style>\n",
              "\n",
              "    <script>\n",
              "      const buttonEl =\n",
              "        document.querySelector('#df-6f980f50-ce36-41c6-819b-42e36f34ede0 button.colab-df-convert');\n",
              "      buttonEl.style.display =\n",
              "        google.colab.kernel.accessAllowed ? 'block' : 'none';\n",
              "\n",
              "      async function convertToInteractive(key) {\n",
              "        const element = document.querySelector('#df-6f980f50-ce36-41c6-819b-42e36f34ede0');\n",
              "        const dataTable =\n",
              "          await google.colab.kernel.invokeFunction('convertToInteractive',\n",
              "                                                    [key], {});\n",
              "        if (!dataTable) return;\n",
              "\n",
              "        const docLinkHtml = 'Like what you see? Visit the ' +\n",
              "          '<a target=\"_blank\" href=https://colab.research.google.com/notebooks/data_table.ipynb>data table notebook</a>'\n",
              "          + ' to learn more about interactive tables.';\n",
              "        element.innerHTML = '';\n",
              "        dataTable['output_type'] = 'display_data';\n",
              "        await google.colab.output.renderOutput(dataTable, element);\n",
              "        const docLink = document.createElement('div');\n",
              "        docLink.innerHTML = docLinkHtml;\n",
              "        element.appendChild(docLink);\n",
              "      }\n",
              "    </script>\n",
              "  </div>\n",
              "\n",
              "\n",
              "<div id=\"df-af8b44e8-2d4f-419b-ac20-1df42fa94102\">\n",
              "  <button class=\"colab-df-quickchart\" onclick=\"quickchart('df-af8b44e8-2d4f-419b-ac20-1df42fa94102')\"\n",
              "            title=\"Suggest charts\"\n",
              "            style=\"display:none;\">\n",
              "\n",
              "<svg xmlns=\"http://www.w3.org/2000/svg\" height=\"24px\"viewBox=\"0 0 24 24\"\n",
              "     width=\"24px\">\n",
              "    <g>\n",
              "        <path d=\"M19 3H5c-1.1 0-2 .9-2 2v14c0 1.1.9 2 2 2h14c1.1 0 2-.9 2-2V5c0-1.1-.9-2-2-2zM9 17H7v-7h2v7zm4 0h-2V7h2v10zm4 0h-2v-4h2v4z\"/>\n",
              "    </g>\n",
              "</svg>\n",
              "  </button>\n",
              "\n",
              "<style>\n",
              "  .colab-df-quickchart {\n",
              "      --bg-color: #E8F0FE;\n",
              "      --fill-color: #1967D2;\n",
              "      --hover-bg-color: #E2EBFA;\n",
              "      --hover-fill-color: #174EA6;\n",
              "      --disabled-fill-color: #AAA;\n",
              "      --disabled-bg-color: #DDD;\n",
              "  }\n",
              "\n",
              "  [theme=dark] .colab-df-quickchart {\n",
              "      --bg-color: #3B4455;\n",
              "      --fill-color: #D2E3FC;\n",
              "      --hover-bg-color: #434B5C;\n",
              "      --hover-fill-color: #FFFFFF;\n",
              "      --disabled-bg-color: #3B4455;\n",
              "      --disabled-fill-color: #666;\n",
              "  }\n",
              "\n",
              "  .colab-df-quickchart {\n",
              "    background-color: var(--bg-color);\n",
              "    border: none;\n",
              "    border-radius: 50%;\n",
              "    cursor: pointer;\n",
              "    display: none;\n",
              "    fill: var(--fill-color);\n",
              "    height: 32px;\n",
              "    padding: 0;\n",
              "    width: 32px;\n",
              "  }\n",
              "\n",
              "  .colab-df-quickchart:hover {\n",
              "    background-color: var(--hover-bg-color);\n",
              "    box-shadow: 0 1px 2px rgba(60, 64, 67, 0.3), 0 1px 3px 1px rgba(60, 64, 67, 0.15);\n",
              "    fill: var(--button-hover-fill-color);\n",
              "  }\n",
              "\n",
              "  .colab-df-quickchart-complete:disabled,\n",
              "  .colab-df-quickchart-complete:disabled:hover {\n",
              "    background-color: var(--disabled-bg-color);\n",
              "    fill: var(--disabled-fill-color);\n",
              "    box-shadow: none;\n",
              "  }\n",
              "\n",
              "  .colab-df-spinner {\n",
              "    border: 2px solid var(--fill-color);\n",
              "    border-color: transparent;\n",
              "    border-bottom-color: var(--fill-color);\n",
              "    animation:\n",
              "      spin 1s steps(1) infinite;\n",
              "  }\n",
              "\n",
              "  @keyframes spin {\n",
              "    0% {\n",
              "      border-color: transparent;\n",
              "      border-bottom-color: var(--fill-color);\n",
              "      border-left-color: var(--fill-color);\n",
              "    }\n",
              "    20% {\n",
              "      border-color: transparent;\n",
              "      border-left-color: var(--fill-color);\n",
              "      border-top-color: var(--fill-color);\n",
              "    }\n",
              "    30% {\n",
              "      border-color: transparent;\n",
              "      border-left-color: var(--fill-color);\n",
              "      border-top-color: var(--fill-color);\n",
              "      border-right-color: var(--fill-color);\n",
              "    }\n",
              "    40% {\n",
              "      border-color: transparent;\n",
              "      border-right-color: var(--fill-color);\n",
              "      border-top-color: var(--fill-color);\n",
              "    }\n",
              "    60% {\n",
              "      border-color: transparent;\n",
              "      border-right-color: var(--fill-color);\n",
              "    }\n",
              "    80% {\n",
              "      border-color: transparent;\n",
              "      border-right-color: var(--fill-color);\n",
              "      border-bottom-color: var(--fill-color);\n",
              "    }\n",
              "    90% {\n",
              "      border-color: transparent;\n",
              "      border-bottom-color: var(--fill-color);\n",
              "    }\n",
              "  }\n",
              "</style>\n",
              "\n",
              "  <script>\n",
              "    async function quickchart(key) {\n",
              "      const quickchartButtonEl =\n",
              "        document.querySelector('#' + key + ' button');\n",
              "      quickchartButtonEl.disabled = true;  // To prevent multiple clicks.\n",
              "      quickchartButtonEl.classList.add('colab-df-spinner');\n",
              "      try {\n",
              "        const charts = await google.colab.kernel.invokeFunction(\n",
              "            'suggestCharts', [key], {});\n",
              "      } catch (error) {\n",
              "        console.error('Error during call to suggestCharts:', error);\n",
              "      }\n",
              "      quickchartButtonEl.classList.remove('colab-df-spinner');\n",
              "      quickchartButtonEl.classList.add('colab-df-quickchart-complete');\n",
              "    }\n",
              "    (() => {\n",
              "      let quickchartButtonEl =\n",
              "        document.querySelector('#df-af8b44e8-2d4f-419b-ac20-1df42fa94102 button');\n",
              "      quickchartButtonEl.style.display =\n",
              "        google.colab.kernel.accessAllowed ? 'block' : 'none';\n",
              "    })();\n",
              "  </script>\n",
              "</div>\n",
              "\n",
              "    </div>\n",
              "  </div>\n"
            ],
            "application/vnd.google.colaboratory.intrinsic+json": {
              "type": "dataframe",
              "summary": "{\n  \"name\": \"df\",\n  \"rows\": 10,\n  \"fields\": [\n    {\n      \"column\": \"Category\",\n      \"properties\": {\n        \"dtype\": \"string\",\n        \"num_unique_values\": 9,\n        \"samples\": [\n          \"DevOps Engineer\",\n          \"Sales\",\n          \"Java Developer\"\n        ],\n        \"semantic_type\": \"\",\n        \"description\": \"\"\n      }\n    },\n    {\n      \"column\": \"Resume\",\n      \"properties\": {\n        \"dtype\": \"string\",\n        \"num_unique_values\": 10,\n        \"samples\": [\n          \"Skills VISA B1-VISA (USA) Onsite Visits to Sweden & US (Seattle) Education Details \\r\\nJanuary 2013 Post Graduate Diploma Information Technology Pune, Maharashtra Symbiosis Institute\\r\\nJanuary 2007 Bachelor of Engineering Electronics and Telecommunications Pune, Maharashtra Pune University\\r\\nCloud Operations Architect (DevOps) \\r\\n\\r\\nCloud Operations Architect (DevOps) - DevOps\\r\\nSkill Details \\r\\nCloud Computing- Exprience - 48 months\\r\\nShell Scripting- Exprience - 96 months\\r\\nPython- Exprience - 6 months\\r\\nAutomation- Exprience - 72 months\\r\\nSolution Architect- Exprience - Less than 1 year months\\r\\nAzure- Exprience - Less than 1 year months\\r\\nAWS- Exprience - Less than 1 year monthsCompany Details \\r\\ncompany - DevOps\\r\\ndescription - Type: DevOps Engineer.\\r\\nPlatform: AWS Cloud, Azure Cloud.\\r\\nServices: AWS EC2, RDS, CloudFormation Template, Lambda, Dynamo DB,\\t\\tCloud Watch, Auto-scaling, Elastic Bean stalk, Appdynamics.\\r\\n\\r\\nHere I manage Tibco Spotfire enterprise & Cloud Product support. Being the only Ops member in India I got a chance to recruit & build entire team of 15 members. I also worked on 4 different Projects / products simultaneously and added the hired members into these products.\\r\\n\\r\\nMy responsibilities in this project include:\\r\\n1. Managing Tibco Spotfire Enterprise & Cloud environment.\\r\\n2. Helping India QA team with the pre-production environment for testing.\\r\\n3. Coordinating production deployment & hot-fixes.\\r\\n4. Leading the team and handling 4-projects.\\r\\n5. Arranging workshops over new AWS services for entire Team.\\r\\n\\r\\nShell scripts for Automation:\\r\\n\\r\\n\\u00e2\\u0080\\u00a2 Wrote shell script to extract the AWS running instances and shut it down.\\r\\n\\u00e2\\u0080\\u00a2 Wrote shell script to extract free EIP and release those.\\r\\n\\u00e2\\u0080\\u00a2 Wrote Lambda function to trigger important scripts.\\r\\ncompany - Synechron Technologies Limited\\r\\ndescription - Type: Administration, automation & Monitoring.\\r\\nPlatform: Linux/Unix, Linux-Xen Servers,\\r\\nSoftware: Puppet, Redhat Satellite server, my-sql database shell scripting.\\r\\n\\r\\nMy responsibilities in this project included:\\r\\n1. Managing linux media servers farms and provide application support.\\r\\n2. Patching Linux physical and xen boxes.\\r\\n3. Creating Satellite channels on Satellite server.\\r\\n4. Automation via shell scripting and mysql DB support.\\r\\n5. Troubleshooting the customized applications.\\r\\ncompany - Tsys Limited\\r\\ndescription - Type: Development, automation & Monitoring.\\r\\nPlatform: Linux/Unix, windows\\r\\nSoftware: mysql database, shell scripting.\\r\\n\\r\\nHere my responsibility was to provide access to the users on RHDS, Cvs and dot project servers.\\r\\nIt also included providing access to users on dev/prod VDI servers. Handling mysql database and shell scripting to automate the tasks.\\r\\n\\r\\nMy responsibilities in this project included:\\r\\n1. Requirements and Analysis: Understanding the requirements of the project and planning the environment and the access required.\\r\\n2. Implementing mysql replication over linux servers.\\r\\n3. Fine tuning the existing applications.\\r\\n4. Testing & debugging the scripts for any errors.\\r\\ncompany - Patni Computer Systems Limited\\r\\ndescription - Project: CPI\\r\\nType: Development, automation & Monitoring.\\r\\nPlatform: P8 Filenet, Linux/Unix, IBM AIX\\r\\nSoftware: Sound knowledge of HTML, shell scripting.\\r\\nClient: Genworth Financial\\r\\nDuration: 2 yrs 2 months.\\r\\nRole: Senior System Engineer\\r\\n\\r\\nCPI is a Maintenance Project that caters to maintenance/enhancements of different applications, which are a part of Genworth Imaging Solutions. It has different applications that process the scanned Insurance documents sent from different Providers and stores the information in Oracle Database and images in P8 Filenet. It has multiple applications to generate reports to be sent to providers.\\r\\n\\r\\nAdministration Support:\\r\\n\\u00e2\\u0080\\u00a2 Providing support to the L1 engineers.\\r\\n\\u00e2\\u0080\\u00a2 Monitoring P8 Filenet application.\\r\\n\\u00e2\\u0080\\u00a2 Handling Tickets raised by the users.\\r\\n\\u00e2\\u0080\\u00a2 Administration of the 10 Linux Proxy servers and mysql servers.\\r\\n\\u00e2\\u0080\\u00a2 Implementing mysql replication.\\r\\n\\u00e2\\u0080\\u00a2 Checking the logs of the sites visited by the users and the data downloaded.\\r\\n\\r\\nMysql / Oracle / SQL Support:\\r\\n\\u00e2\\u0080\\u00a2 Preparing SQL queries for the client users.\\r\\n\\u00e2\\u0080\\u00a2 Handling Oracle database.\\r\\n\\u00e2\\u0080\\u00a2 Testing insert, select, update queries over servers and deploying over production.\\r\\n\\u00e2\\u0080\\u00a2 Handling the bugs raised by the users.\\r\\n\\u00e2\\u0080\\u00a2 Implementing mysql replication over linux servers.\\r\\n\\u00e2\\u0080\\u00a2 Taking database backup through mysql dump.\\r\\n\\r\\nApplication Support:\\r\\n\\u00e2\\u0080\\u00a2 To make sure that the customer applications like eProcess, Trexo are working fine.\\r\\n\\u00e2\\u0080\\u00a2 To make sure all the customized filenet instances are working fine.\\r\\n\\u00e2\\u0080\\u00a2 Writing scripts to automate few of the applications.\\r\\n\\r\\nShell scripts for Automation:\\r\\n\\u00e2\\u0080\\u00a2 Wrote shell script to delete the logs older than five days which was successfully deployed over Production servers.\",\n          \"Skill Sets: \\u00e2\\u0080\\u00a2 Multi-tasking \\u00e2\\u0080\\u00a2 Collaborative \\u00e2\\u0080\\u00a2 Optimistic Thinking \\u00e2\\u0080\\u00a2 Effective teamleader/team trainer \\u00e2\\u0080\\u00a2 Visualizing the work which is to be done \\u00e2\\u0080\\u00a2 Good Grip on Communication \\u00e2\\u0080\\u00a2 Various Languages Known \\u00e2\\u0080\\u00a2 Value loyalty and is loyal towards my responsibility \\u00e2\\u0080\\u00a2 Compatible working with MS officeEducation Details \\r\\nJanuary 2017 MBA Marketing & Sales  Amity University\\r\\nJanuary 2015 Bsc. Hotel Management  P.S.G College of arts and sciences\\r\\n    Institution/University/Board\\r\\nSales Manager \\r\\n\\r\\nSales and Marketing Management\\r\\nSkill Details \\r\\nMS office- Exprience - 4 monthsCompany Details \\r\\ncompany - Cohesive Technologies\\r\\ndescription - I am responsible for Managing company's business in Mumbai area,along with branch Manager,I follow up leads given to me by my corporate office, I meet them personally give them the best solutions and product suitable for their business, I even generate leads by myself by calling up the clients through cold call,My job is like an entrepreneur here, which basically involves managing a small business.\",\n          \"KEY COMPETENCIES \\u00e2\\u009c\\u00b6Multi - Operations Management\\u00e2\\u009c\\u00b6People Management \\u00e2\\u009c\\u00b6Customer Services - Emails \\u00e2\\u009c\\u00b6 MIS \\u00e2\\u009c\\u00b6Vendor & Client Services Management\\u00e2\\u009c\\u00b6Cross Functional Coordination\\u00e2\\u009c\\u00b6Banking & Financial Services\\u00e2\\u009c\\u00b6 Transaction Monitoring * ATM Operations \\u00e2\\u009c\\u00b6 & Prepaid Card Operations (Pre-Issuance & Post-Issuance) \\u00e2\\u009c\\u00b6 POS Operations * JOB PROFILE & SKILLS: \\u00e2\\u0080\\u00a2 An effective communicator with excellent relationship building & interpersonal skills. Strong analytical, problem solving & organizational abilities. \\u00e2\\u0080\\u00a2 Extensive experience in managing operations with demonstrated leadership qualities & organisational skills during the tenure. \\u00e2\\u0080\\u00a2 Managing customer centric operations & ensuring customer satisfaction by achieving service quality norms. \\u00e2\\u0080\\u00a2 Analyzing of all operational problems, customer complaints and take preventive and corrective actions to resolve the same. \\u00e2\\u0080\\u00a2 Receive and respond to Key customer inquiries in an effective manner and provide relevant and timely information. \\u00e2\\u0080\\u00a2 Deft in steering banking back-end operations, analyzing risks and managing delinquencies with dexterity across applying techniques for maximizing recoveries and minimizing credit losses. \\u00e2\\u0080\\u00a2 Analyzed & identified training needs of the team members and developing, organizing and conducting training programs and manage bottom quartile team to improve their performance. \\u00e2\\u0080\\u00a2 Preparing and maintaining daily MIS reports to evaluate the performance and efficiency of the process relate to various verticals. \\u00e2\\u0080\\u00a2 Measuring the performance of the processes in terms of efficiency and effectiveness matrix and ensuring adherence to SLA. \\u00e2\\u0080\\u00a2 Major Activities Define processes for Field Services were monitored and necessary checks were executed and controlled. Also measured Vendor SLA by analyzing the TAT of vendors & the Client SLA provided to us. \\u00e2\\u0080\\u00a2 As per company procedures, handling & ensuring vendor's payment issues to be sorted out &payments are processed on quarterly basis. \\u00e2\\u0080\\u00a2 Appropriately plan and execute each skill of operations in accordance with the department's policies and procedures. \\u00e2\\u0080\\u00a2 Manage relationships with business team, software development team and other services to achieve project objectives. Different software Worked till now: - a. CTL prime - Axis Bank Credit Cards b. Insight - For POS Machine technical operations for Amex (MID & TID Generation- ATOS (Venture Infotek) c. Ticket Management System - TATA Communications Private Services Ltd (ATM - NOC Operations) d. Branch Portal (Yalamanchili Software Exports Ltd) - Prepaid Cards (SBI Bank & Zaggle Prepaid Oceans Services Ltd) Zaggle Prepaid Ocean Services Pvt Ltd Oct, 2017 to Till Date Designation: Manager - Operations (Payment Industry - Prepaid Cards - INR) Education Details \\r\\n  Commerce Mumbai, Maharashtra Mumbai University\\r\\nOperations Manager \\r\\n\\r\\nService Manager - Operations (Payment Industry - Prepaid Cards - INR & FTC)\\r\\nSkill Details \\r\\nOPERATIONS- Exprience - 73 months\\r\\nSATISFACTION- Exprience - 48 months\\r\\nTRAINING- Exprience - 24 months\\r\\nNOC- Exprience - 23 months\\r\\nPOINT OF SALE- Exprience - 20 monthsCompany Details \\r\\ncompany - Zaggle Prepaid Ocean Services Pvt Ltd\\r\\ndescription - Card Operations\\r\\ncompany - Yalamanchili Software Exports Ltd\\r\\ndescription - 24*7 Operations Pvt Ltd) Dec 2015 to Feb 2017\\r\\n\\r\\nDesignation: Service Manager - Operations (Payment Industry - Prepaid Cards - INR & FTC)\\r\\n\\r\\nKey Contributions: \\u00e2\\u0080\\u00a2 A result-oriented business professional in planning, executing& managing processes, improving efficiency of operations, team building and detailing process information to determine effective result into operations.\\r\\n\\u00e2\\u0080\\u00a2 Ensuring PINs generation (SLA) is maintained and chargeback cases are raised in perfect timeframe.\\r\\n\\u00e2\\u0080\\u00a2 Managing email customer services properly and ensuring the emails are replied properly. Also, ensuring transaction monitoring is properly managed 24/7.\\r\\n\\u00e2\\u0080\\u00a2 Assisting Bankers (SBI & Associated Banks) for their BCP plans by getting executed in the system with the help of DR-PR plans & vice versa or any other business requirements.\\r\\n\\u00e2\\u0080\\u00a2 Expertise in maintaining highest level of quality in operations; ensuring adherence to all the quality parameters and procedures as per the stringent norms.\\r\\n\\u00e2\\u0080\\u00a2 Lead, manage and supervise the execution of external audit engagements and responsible for presenting the findings & developing a quality reports to the senior Management and Clients.\\r\\n\\u00e2\\u0080\\u00a2 Coach/mentor (20) team members to perform at a higher level by giving opportunities, providing timely continuous feedback and working with staff to improve their communication, time management, decision making, organization, and analytical skills.\\r\\n\\u00e2\\u0080\\u00a2 Providing the solutions and services to the client in their own premises with aforesaid count of team members.\\r\\n\\u00e2\\u0080\\u00a2 Also ensuring end to end process of PR & DR as per client requirements (PR- DR & DR -PR) by interacting with internal & external stakeholders.\\r\\n\\u00e2\\u0080\\u00a2 Determining process gaps and designing & conducting training programs to enhance operational efficiency and retain talent by providing optimum opportunities for personal and professional growth.\\r\\ncompany - Credit Cards\\r\\ndescription - Ensured highest standard of customer satisfaction and quality service; developing new policies and procedures to improve based on customer feedback and resolving customer queries via correspondence, inbound calls & email channels with the strength of (12-16) Team members.\\r\\ncompany - AGS Transact Technologies Limited\\r\\ndescription - Key Contributions: Lead - SPOC to Banks\\r\\ncompany - TATA Communications Payment Solutions Ltd\\r\\ndescription - To make ATMs operational within TAT by analyzing the issue is technical or non-technical and also by interacting with internal & external stakeholders.\\r\\ncompany - Vertex Customer Solutions India Private Ltd\\r\\ndescription - Key Contributions: \\u00e2\\u0080\\u00a2 Build positive working relationship with all team members and clients by keeping Management informed   of KYC document collection & con-current audit progress, responding timely to Management inquiries, understanding the business and conducting self professionally.\\r\\ncompany - Financial Inclusion Network & Operations Limited\\r\\ndescription - Key Contributions: POS-Operations \\u00e2\\u0080\\u00a2 Cascading the adherence of process is strictly followed by team members & training them to reduce the downtime.\\r\\n\\u00e2\\u0080\\u00a2 Managing Stock of EDC Terminals \\u00e2\\u0080\\u00a2 Managing Deployments of terminals through Multiple teams \\u00e2\\u0080\\u00a2 Would have worked with multiple terminal make & model \\u00e2\\u0080\\u00a2 Managing Inward, Outward & QC of applications installed in the POS machines.\\r\\ncompany - Venture Infotek Private Ltd\\r\\ndescription - Key Contributions: POS-Operations\\r\\ncompany - Axis Bank Ltd - Customer Services\\r\\ndescription - Aug 2006 to Oct 2009 (Ma-Foi&I- smart)\\r\\n\\r\\nDesignation: Team Leader/Executive - Emails, Phone Banking & Correspondence Unit (Snail Mails)\"\n        ],\n        \"semantic_type\": \"\",\n        \"description\": \"\"\n      }\n    }\n  ]\n}"
            }
          },
          "metadata": {},
          "execution_count": 29
        }
      ]
    },
    {
      "cell_type": "code",
      "source": [
        " df['Resume'][0]"
      ],
      "metadata": {
        "colab": {
          "base_uri": "https://localhost:8080/",
          "height": 163
        },
        "id": "EpVSwh3cepje",
        "outputId": "4d5e31e6-123f-431b-9b1b-50ff9142fd8c"
      },
      "execution_count": null,
      "outputs": [
        {
          "output_type": "execute_result",
          "data": {
            "text/plain": [
              "'Skills * Programming Languages: Python (pandas, numpy, scipy, scikit-learn, matplotlib), Sql, Java, JavaScript/JQuery. * Machine learning: Regression, SVM, NaÃ¯ve Bayes, KNN, Random Forest, Decision Trees, Boosting techniques, Cluster Analysis, Word Embedding, Sentiment Analysis, Natural Language processing, Dimensionality reduction, Topic Modelling (LDA, NMF), PCA & Neural Nets. * Database Visualizations: Mysql, SqlServer, Cassandra, Hbase, ElasticSearch D3.js, DC.js, Plotly, kibana, matplotlib, ggplot, Tableau. * Others: Regular Expression, HTML, CSS, Angular 6, Logstash, Kafka, Python Flask, Git, Docker, computer vision - Open CV and understanding of Deep learning.Education Details \\r\\n\\r\\nData Science Assurance Associate \\r\\n\\r\\nData Science Assurance Associate - Ernst & Young LLP\\r\\nSkill Details \\r\\nJAVASCRIPT- Exprience - 24 months\\r\\njQuery- Exprience - 24 months\\r\\nPython- Exprience - 24 monthsCompany Details \\r\\ncompany - Ernst & Young LLP\\r\\ndescription - Fraud Investigations and Dispute Services   Assurance\\r\\nTECHNOLOGY ASSISTED REVIEW\\r\\nTAR (Technology Assisted Review) assists in accelerating the review process and run analytics and generate reports.\\r\\n* Core member of a team helped in developing automated review platform tool from scratch for assisting E discovery domain, this tool implements predictive coding and topic modelling by automating reviews, resulting in reduced labor costs and time spent during the lawyers review.\\r\\n* Understand the end to end flow of the solution, doing research and development for classification models, predictive analysis and mining of the information present in text data. Worked on analyzing the outputs and precision monitoring for the entire tool.\\r\\n* TAR assists in predictive coding, topic modelling from the evidence by following EY standards. Developed the classifier models in order to identify \"red flags\" and fraud-related issues.\\r\\n\\r\\nTools & Technologies: Python, scikit-learn, tfidf, word2vec, doc2vec, cosine similarity, NaÃ¯ve Bayes, LDA, NMF for topic modelling, Vader and text blob for sentiment analysis. Matplot lib, Tableau dashboard for reporting.\\r\\n\\r\\nMULTIPLE DATA SCIENCE AND ANALYTIC PROJECTS (USA CLIENTS)\\r\\nTEXT ANALYTICS - MOTOR VEHICLE CUSTOMER REVIEW DATA * Received customer feedback survey data for past one year. Performed sentiment (Positive, Negative & Neutral) and time series analysis on customer comments across all 4 categories.\\r\\n* Created heat map of terms by survey category based on frequency of words * Extracted Positive and Negative words across all the Survey categories and plotted Word cloud.\\r\\n* Created customized tableau dashboards for effective reporting and visualizations.\\r\\nCHATBOT * Developed a user friendly chatbot for one of our Products which handle simple questions about hours of operation, reservation options and so on.\\r\\n* This chat bot serves entire product related questions. Giving overview of tool via QA platform and also give recommendation responses so that user question to build chain of relevant answer.\\r\\n* This too has intelligence to build the pipeline of questions as per user requirement and asks the relevant /recommended questions.\\r\\n\\r\\nTools & Technologies: Python, Natural language processing, NLTK, spacy, topic modelling, Sentiment analysis, Word Embedding, scikit-learn, JavaScript/JQuery, SqlServer\\r\\n\\r\\nINFORMATION GOVERNANCE\\r\\nOrganizations to make informed decisions about all of the information they store. The integrated Information Governance portfolio synthesizes intelligence across unstructured data sources and facilitates action to ensure organizations are best positioned to counter information risk.\\r\\n* Scan data from multiple sources of formats and parse different file formats, extract Meta data information, push results for indexing elastic search and created customized, interactive dashboards using kibana.\\r\\n* Preforming ROT Analysis on the data which give information of data which helps identify content that is either Redundant, Outdated, or Trivial.\\r\\n* Preforming full-text search analysis on elastic search with predefined methods which can tag as (PII) personally identifiable information (social security numbers, addresses, names, etc.) which frequently targeted during cyber-attacks.\\r\\nTools & Technologies: Python, Flask, Elastic Search, Kibana\\r\\n\\r\\nFRAUD ANALYTIC PLATFORM\\r\\nFraud Analytics and investigative platform to review all red flag cases.\\r\\nâ\\x80¢ FAP is a Fraud Analytics and investigative platform with inbuilt case manager and suite of Analytics for various ERP systems.\\r\\n* It can be used by clients to interrogate their Accounting systems for identifying the anomalies which can be indicators of fraud by running advanced analytics\\r\\nTools & Technologies: HTML, JavaScript, SqlServer, JQuery, CSS, Bootstrap, Node.js, D3.js, DC.js'"
            ],
            "application/vnd.google.colaboratory.intrinsic+json": {
              "type": "string"
            }
          },
          "metadata": {},
          "execution_count": 30
        }
      ]
    },
    {
      "cell_type": "code",
      "source": [
        "df['Category'].value_counts()"
      ],
      "metadata": {
        "colab": {
          "base_uri": "https://localhost:8080/"
        },
        "id": "-EwsqBOKiJnE",
        "outputId": "acc63515-132f-448e-cbec-a9f1a9727825"
      },
      "execution_count": null,
      "outputs": [
        {
          "output_type": "execute_result",
          "data": {
            "text/plain": [
              "Java Developer               84\n",
              "Testing                      70\n",
              "DevOps Engineer              55\n",
              "Python Developer             48\n",
              "Web Designing                45\n",
              "HR                           44\n",
              "Hadoop                       42\n",
              "Blockchain                   40\n",
              "ETL Developer                40\n",
              "Operations Manager           40\n",
              "Data Science                 40\n",
              "Sales                        40\n",
              "Mechanical Engineer          40\n",
              "Arts                         36\n",
              "Database                     33\n",
              "Electrical Engineering       30\n",
              "Health and fitness           30\n",
              "PMO                          30\n",
              "Business Analyst             28\n",
              "DotNet Developer             28\n",
              "Automation Testing           26\n",
              "Network Security Engineer    25\n",
              "SAP Developer                24\n",
              "Civil Engineer               24\n",
              "Advocate                     20\n",
              "Name: Category, dtype: int64"
            ]
          },
          "metadata": {},
          "execution_count": 31
        }
      ]
    },
    {
      "cell_type": "code",
      "source": [
        "#DATA CLEANING\n",
        "\n",
        "'''\n",
        "1.urls\n",
        "2.hashtags\n",
        "3.mentions\n",
        "4.special letters\n",
        "5.punctuations\n",
        "'''"
      ],
      "metadata": {
        "colab": {
          "base_uri": "https://localhost:8080/",
          "height": 36
        },
        "id": "gjGSCaHjiWvb",
        "outputId": "d62848c6-d4e3-42ed-d775-eaf3f18a5607"
      },
      "execution_count": null,
      "outputs": [
        {
          "output_type": "execute_result",
          "data": {
            "text/plain": [
              "'\\n1.urls\\n2.hashtags\\n3.mentions\\n4.special letters\\n5.punctuations\\n'"
            ],
            "application/vnd.google.colaboratory.intrinsic+json": {
              "type": "string"
            }
          },
          "metadata": {},
          "execution_count": 32
        }
      ]
    },
    {
      "cell_type": "code",
      "source": [
        "import re\n",
        "\n",
        "def cleanResume(txt):\n",
        "  cleantext=re.sub('http\\S+\\s','',txt)\n",
        "  cleantext=re.sub('#S+\\s','',cleantext)\n",
        "  cleantext=re.sub('RT|cc','',cleantext)\n",
        "  cleantext=re.sub('@\\S+\\s','',cleantext)\n",
        "  cleantext=re.sub('[%s]'% re.escape(\"\"\"@!#$%^&*()_+=-{}[]\\|:;,<>.?/\"\"\"),' ',cleantext)\n",
        "  return cleantext"
      ],
      "metadata": {
        "id": "I5G-7g2Oiu6S"
      },
      "execution_count": null,
      "outputs": []
    },
    {
      "cell_type": "code",
      "source": [
        "df['Resume']=df['Resume'].apply(lambda x:cleanResume(x))"
      ],
      "metadata": {
        "id": "1eKLsN_GlBBa"
      },
      "execution_count": null,
      "outputs": []
    },
    {
      "cell_type": "code",
      "source": [
        "print(df['Resume'][0])"
      ],
      "metadata": {
        "colab": {
          "base_uri": "https://localhost:8080/"
        },
        "id": "eXAGBWg8mF0q",
        "outputId": "d6ae232b-fa95-441f-f2e8-5b428b4a4612"
      },
      "execution_count": null,
      "outputs": [
        {
          "output_type": "stream",
          "name": "stdout",
          "text": [
            "Skills   Programming Languages  Python  pandas  numpy  scipy  scikit learn  matplotlib   Sql  Java  JavaScript JQuery    Machine learning  Regression  SVM  NaÃ¯ve Bayes  KNN  Random Forest  Decision Trees  Boosting techniques  Cluster Analysis  Word Embedding  Sentiment Analysis  Natural Language processing  Dimensionality reduction  Topic Modelling  LDA  NMF   PCA   Neural Nets    Database Visualizations  Mysql  SqlServer  Cassandra  Hbase  ElasticSearch D3 js  DC js  Plotly  kibana  matplotlib  ggplot  Tableau    Others  Regular Expression  HTML  CSS  Angular 6  Logstash  Kafka  Python Flask  Git  Docker  computer vision   Open CV and understanding of Deep learning Education Details \r\n",
            "\r\n",
            "Data Science Assurance Associate \r\n",
            "\r\n",
            "Data Science Assurance Associate   Ernst   Young LLP\r\n",
            "Skill Details \r\n",
            "JAVASCRIPT  Exprience   24 months\r\n",
            "jQuery  Exprience   24 months\r\n",
            "Python  Exprience   24 monthsCompany Details \r\n",
            "company   Ernst   Young LLP\r\n",
            "description   Fraud Investigations and Dispute Services   Assurance\r\n",
            "TECHNOLOGY ASSISTED REVIEW\r\n",
            "TAR  Technology Assisted Review  assists in aelerating the review process and run analytics and generate reports \r\n",
            "  Core member of a team helped in developing automated review platform tool from scratch for assisting E discovery domain  this tool implements predictive coding and topic modelling by automating reviews  resulting in reduced labor costs and time spent during the lawyers review \r\n",
            "  Understand the end to end flow of the solution  doing research and development for classification models  predictive analysis and mining of the information present in text data  Worked on analyzing the outputs and precision monitoring for the entire tool \r\n",
            "  TAR assists in predictive coding  topic modelling from the evidence by following EY standards  Developed the classifier models in order to identify \"red flags\" and fraud related issues \r\n",
            "\r\n",
            "Tools   Technologies  Python  scikit learn  tfidf  word2vec  doc2vec  cosine similarity  NaÃ¯ve Bayes  LDA  NMF for topic modelling  Vader and text blob for sentiment analysis  Matplot lib  Tableau dashboard for reporting \r\n",
            "\r\n",
            "MULTIPLE DATA SCIENCE AND ANALYTIC PROJECTS  USA CLIENTS \r\n",
            "TEXT ANALYTICS   MOTOR VEHICLE CUSTOMER REVIEW DATA   Received customer feedback survey data for past one year  Performed sentiment  Positive  Negative   Neutral  and time series analysis on customer comments across all 4 categories \r\n",
            "  Created heat map of terms by survey category based on frequency of words   Extracted Positive and Negative words across all the Survey categories and plotted Word cloud \r\n",
            "  Created customized tableau dashboards for effective reporting and visualizations \r\n",
            "CHATBOT   Developed a user friendly chatbot for one of our Products which handle simple questions about hours of operation  reservation options and so on \r\n",
            "  This chat bot serves entire product related questions  Giving overview of tool via QA platform and also give recommendation responses so that user question to build chain of relevant answer \r\n",
            "  This too has intelligence to build the pipeline of questions as per user requirement and asks the relevant  recommended questions \r\n",
            "\r\n",
            "Tools   Technologies  Python  Natural language processing  NLTK  spacy  topic modelling  Sentiment analysis  Word Embedding  scikit learn  JavaScript JQuery  SqlServer\r\n",
            "\r\n",
            "INFORMATION GOVERNANCE\r\n",
            "Organizations to make informed decisions about all of the information they store  The integrated Information Governance portfolio synthesizes intelligence across unstructured data sources and facilitates action to ensure organizations are best positioned to counter information risk \r\n",
            "  Scan data from multiple sources of formats and parse different file formats  extract Meta data information  push results for indexing elastic search and created customized  interactive dashboards using kibana \r\n",
            "  Preforming ROT Analysis on the data which give information of data which helps identify content that is either Redundant  Outdated  or Trivial \r\n",
            "  Preforming full text search analysis on elastic search with predefined methods which can tag as  PII  personally identifiable information  social security numbers  addresses  names  etc   which frequently targeted during cyber attacks \r\n",
            "Tools   Technologies  Python  Flask  Elastic Search  Kibana\r\n",
            "\r\n",
            "FRAUD ANALYTIC PLATFORM\r\n",
            "Fraud Analytics and investigative platform to review all red flag cases \r\n",
            "â¢ FAP is a Fraud Analytics and investigative platform with inbuilt case manager and suite of Analytics for various ERP systems \r\n",
            "  It can be used by clients to interrogate their Aounting systems for identifying the anomalies which can be indicators of fraud by running advanced analytics\r\n",
            "Tools   Technologies  HTML  JavaScript  SqlServer  JQuery  CSS  Bootstrap  Node js  D3 js  DC js\n"
          ]
        }
      ]
    },
    {
      "cell_type": "code",
      "source": [
        "from sklearn.preprocessing import LabelEncoder\n",
        "\n",
        "le=LabelEncoder()\n",
        "df['Category']= le.fit_transform(df['Category'])"
      ],
      "metadata": {
        "id": "18MMdkwmmyLO"
      },
      "execution_count": null,
      "outputs": []
    },
    {
      "cell_type": "code",
      "source": [
        "df.head()"
      ],
      "metadata": {
        "colab": {
          "base_uri": "https://localhost:8080/",
          "height": 206
        },
        "id": "hVUP8fMZnNz0",
        "outputId": "9f313108-5a80-47ba-b004-9a0777639813"
      },
      "execution_count": null,
      "outputs": [
        {
          "output_type": "execute_result",
          "data": {
            "text/plain": [
              "   Category                                             Resume\n",
              "0         6  Skills   Programming Languages  Python  pandas...\n",
              "1         6  Education Details \\r\\nMay 2013 to May 2017 B E...\n",
              "2         6  Areas of Interest Deep Learning  Control Syste...\n",
              "3         6  Skills â¢ R â¢ Python â¢ SAP HANA â¢ Table...\n",
              "4         6  Education Details \\r\\n MCA   YMCAUST   Faridab..."
            ],
            "text/html": [
              "\n",
              "  <div id=\"df-6f0e4dea-bc75-4a7e-b750-2ad5720ffb2a\" class=\"colab-df-container\">\n",
              "    <div>\n",
              "<style scoped>\n",
              "    .dataframe tbody tr th:only-of-type {\n",
              "        vertical-align: middle;\n",
              "    }\n",
              "\n",
              "    .dataframe tbody tr th {\n",
              "        vertical-align: top;\n",
              "    }\n",
              "\n",
              "    .dataframe thead th {\n",
              "        text-align: right;\n",
              "    }\n",
              "</style>\n",
              "<table border=\"1\" class=\"dataframe\">\n",
              "  <thead>\n",
              "    <tr style=\"text-align: right;\">\n",
              "      <th></th>\n",
              "      <th>Category</th>\n",
              "      <th>Resume</th>\n",
              "    </tr>\n",
              "  </thead>\n",
              "  <tbody>\n",
              "    <tr>\n",
              "      <th>0</th>\n",
              "      <td>6</td>\n",
              "      <td>Skills   Programming Languages  Python  pandas...</td>\n",
              "    </tr>\n",
              "    <tr>\n",
              "      <th>1</th>\n",
              "      <td>6</td>\n",
              "      <td>Education Details \\r\\nMay 2013 to May 2017 B E...</td>\n",
              "    </tr>\n",
              "    <tr>\n",
              "      <th>2</th>\n",
              "      <td>6</td>\n",
              "      <td>Areas of Interest Deep Learning  Control Syste...</td>\n",
              "    </tr>\n",
              "    <tr>\n",
              "      <th>3</th>\n",
              "      <td>6</td>\n",
              "      <td>Skills â¢ R â¢ Python â¢ SAP HANA â¢ Table...</td>\n",
              "    </tr>\n",
              "    <tr>\n",
              "      <th>4</th>\n",
              "      <td>6</td>\n",
              "      <td>Education Details \\r\\n MCA   YMCAUST   Faridab...</td>\n",
              "    </tr>\n",
              "  </tbody>\n",
              "</table>\n",
              "</div>\n",
              "    <div class=\"colab-df-buttons\">\n",
              "\n",
              "  <div class=\"colab-df-container\">\n",
              "    <button class=\"colab-df-convert\" onclick=\"convertToInteractive('df-6f0e4dea-bc75-4a7e-b750-2ad5720ffb2a')\"\n",
              "            title=\"Convert this dataframe to an interactive table.\"\n",
              "            style=\"display:none;\">\n",
              "\n",
              "  <svg xmlns=\"http://www.w3.org/2000/svg\" height=\"24px\" viewBox=\"0 -960 960 960\">\n",
              "    <path d=\"M120-120v-720h720v720H120Zm60-500h600v-160H180v160Zm220 220h160v-160H400v160Zm0 220h160v-160H400v160ZM180-400h160v-160H180v160Zm440 0h160v-160H620v160ZM180-180h160v-160H180v160Zm440 0h160v-160H620v160Z\"/>\n",
              "  </svg>\n",
              "    </button>\n",
              "\n",
              "  <style>\n",
              "    .colab-df-container {\n",
              "      display:flex;\n",
              "      gap: 12px;\n",
              "    }\n",
              "\n",
              "    .colab-df-convert {\n",
              "      background-color: #E8F0FE;\n",
              "      border: none;\n",
              "      border-radius: 50%;\n",
              "      cursor: pointer;\n",
              "      display: none;\n",
              "      fill: #1967D2;\n",
              "      height: 32px;\n",
              "      padding: 0 0 0 0;\n",
              "      width: 32px;\n",
              "    }\n",
              "\n",
              "    .colab-df-convert:hover {\n",
              "      background-color: #E2EBFA;\n",
              "      box-shadow: 0px 1px 2px rgba(60, 64, 67, 0.3), 0px 1px 3px 1px rgba(60, 64, 67, 0.15);\n",
              "      fill: #174EA6;\n",
              "    }\n",
              "\n",
              "    .colab-df-buttons div {\n",
              "      margin-bottom: 4px;\n",
              "    }\n",
              "\n",
              "    [theme=dark] .colab-df-convert {\n",
              "      background-color: #3B4455;\n",
              "      fill: #D2E3FC;\n",
              "    }\n",
              "\n",
              "    [theme=dark] .colab-df-convert:hover {\n",
              "      background-color: #434B5C;\n",
              "      box-shadow: 0px 1px 3px 1px rgba(0, 0, 0, 0.15);\n",
              "      filter: drop-shadow(0px 1px 2px rgba(0, 0, 0, 0.3));\n",
              "      fill: #FFFFFF;\n",
              "    }\n",
              "  </style>\n",
              "\n",
              "    <script>\n",
              "      const buttonEl =\n",
              "        document.querySelector('#df-6f0e4dea-bc75-4a7e-b750-2ad5720ffb2a button.colab-df-convert');\n",
              "      buttonEl.style.display =\n",
              "        google.colab.kernel.accessAllowed ? 'block' : 'none';\n",
              "\n",
              "      async function convertToInteractive(key) {\n",
              "        const element = document.querySelector('#df-6f0e4dea-bc75-4a7e-b750-2ad5720ffb2a');\n",
              "        const dataTable =\n",
              "          await google.colab.kernel.invokeFunction('convertToInteractive',\n",
              "                                                    [key], {});\n",
              "        if (!dataTable) return;\n",
              "\n",
              "        const docLinkHtml = 'Like what you see? Visit the ' +\n",
              "          '<a target=\"_blank\" href=https://colab.research.google.com/notebooks/data_table.ipynb>data table notebook</a>'\n",
              "          + ' to learn more about interactive tables.';\n",
              "        element.innerHTML = '';\n",
              "        dataTable['output_type'] = 'display_data';\n",
              "        await google.colab.output.renderOutput(dataTable, element);\n",
              "        const docLink = document.createElement('div');\n",
              "        docLink.innerHTML = docLinkHtml;\n",
              "        element.appendChild(docLink);\n",
              "      }\n",
              "    </script>\n",
              "  </div>\n",
              "\n",
              "\n",
              "<div id=\"df-f3171065-6af2-4c6a-b3a4-2ccf918e423d\">\n",
              "  <button class=\"colab-df-quickchart\" onclick=\"quickchart('df-f3171065-6af2-4c6a-b3a4-2ccf918e423d')\"\n",
              "            title=\"Suggest charts\"\n",
              "            style=\"display:none;\">\n",
              "\n",
              "<svg xmlns=\"http://www.w3.org/2000/svg\" height=\"24px\"viewBox=\"0 0 24 24\"\n",
              "     width=\"24px\">\n",
              "    <g>\n",
              "        <path d=\"M19 3H5c-1.1 0-2 .9-2 2v14c0 1.1.9 2 2 2h14c1.1 0 2-.9 2-2V5c0-1.1-.9-2-2-2zM9 17H7v-7h2v7zm4 0h-2V7h2v10zm4 0h-2v-4h2v4z\"/>\n",
              "    </g>\n",
              "</svg>\n",
              "  </button>\n",
              "\n",
              "<style>\n",
              "  .colab-df-quickchart {\n",
              "      --bg-color: #E8F0FE;\n",
              "      --fill-color: #1967D2;\n",
              "      --hover-bg-color: #E2EBFA;\n",
              "      --hover-fill-color: #174EA6;\n",
              "      --disabled-fill-color: #AAA;\n",
              "      --disabled-bg-color: #DDD;\n",
              "  }\n",
              "\n",
              "  [theme=dark] .colab-df-quickchart {\n",
              "      --bg-color: #3B4455;\n",
              "      --fill-color: #D2E3FC;\n",
              "      --hover-bg-color: #434B5C;\n",
              "      --hover-fill-color: #FFFFFF;\n",
              "      --disabled-bg-color: #3B4455;\n",
              "      --disabled-fill-color: #666;\n",
              "  }\n",
              "\n",
              "  .colab-df-quickchart {\n",
              "    background-color: var(--bg-color);\n",
              "    border: none;\n",
              "    border-radius: 50%;\n",
              "    cursor: pointer;\n",
              "    display: none;\n",
              "    fill: var(--fill-color);\n",
              "    height: 32px;\n",
              "    padding: 0;\n",
              "    width: 32px;\n",
              "  }\n",
              "\n",
              "  .colab-df-quickchart:hover {\n",
              "    background-color: var(--hover-bg-color);\n",
              "    box-shadow: 0 1px 2px rgba(60, 64, 67, 0.3), 0 1px 3px 1px rgba(60, 64, 67, 0.15);\n",
              "    fill: var(--button-hover-fill-color);\n",
              "  }\n",
              "\n",
              "  .colab-df-quickchart-complete:disabled,\n",
              "  .colab-df-quickchart-complete:disabled:hover {\n",
              "    background-color: var(--disabled-bg-color);\n",
              "    fill: var(--disabled-fill-color);\n",
              "    box-shadow: none;\n",
              "  }\n",
              "\n",
              "  .colab-df-spinner {\n",
              "    border: 2px solid var(--fill-color);\n",
              "    border-color: transparent;\n",
              "    border-bottom-color: var(--fill-color);\n",
              "    animation:\n",
              "      spin 1s steps(1) infinite;\n",
              "  }\n",
              "\n",
              "  @keyframes spin {\n",
              "    0% {\n",
              "      border-color: transparent;\n",
              "      border-bottom-color: var(--fill-color);\n",
              "      border-left-color: var(--fill-color);\n",
              "    }\n",
              "    20% {\n",
              "      border-color: transparent;\n",
              "      border-left-color: var(--fill-color);\n",
              "      border-top-color: var(--fill-color);\n",
              "    }\n",
              "    30% {\n",
              "      border-color: transparent;\n",
              "      border-left-color: var(--fill-color);\n",
              "      border-top-color: var(--fill-color);\n",
              "      border-right-color: var(--fill-color);\n",
              "    }\n",
              "    40% {\n",
              "      border-color: transparent;\n",
              "      border-right-color: var(--fill-color);\n",
              "      border-top-color: var(--fill-color);\n",
              "    }\n",
              "    60% {\n",
              "      border-color: transparent;\n",
              "      border-right-color: var(--fill-color);\n",
              "    }\n",
              "    80% {\n",
              "      border-color: transparent;\n",
              "      border-right-color: var(--fill-color);\n",
              "      border-bottom-color: var(--fill-color);\n",
              "    }\n",
              "    90% {\n",
              "      border-color: transparent;\n",
              "      border-bottom-color: var(--fill-color);\n",
              "    }\n",
              "  }\n",
              "</style>\n",
              "\n",
              "  <script>\n",
              "    async function quickchart(key) {\n",
              "      const quickchartButtonEl =\n",
              "        document.querySelector('#' + key + ' button');\n",
              "      quickchartButtonEl.disabled = true;  // To prevent multiple clicks.\n",
              "      quickchartButtonEl.classList.add('colab-df-spinner');\n",
              "      try {\n",
              "        const charts = await google.colab.kernel.invokeFunction(\n",
              "            'suggestCharts', [key], {});\n",
              "      } catch (error) {\n",
              "        console.error('Error during call to suggestCharts:', error);\n",
              "      }\n",
              "      quickchartButtonEl.classList.remove('colab-df-spinner');\n",
              "      quickchartButtonEl.classList.add('colab-df-quickchart-complete');\n",
              "    }\n",
              "    (() => {\n",
              "      let quickchartButtonEl =\n",
              "        document.querySelector('#df-f3171065-6af2-4c6a-b3a4-2ccf918e423d button');\n",
              "      quickchartButtonEl.style.display =\n",
              "        google.colab.kernel.accessAllowed ? 'block' : 'none';\n",
              "    })();\n",
              "  </script>\n",
              "</div>\n",
              "\n",
              "    </div>\n",
              "  </div>\n"
            ],
            "application/vnd.google.colaboratory.intrinsic+json": {
              "type": "dataframe",
              "variable_name": "df",
              "summary": "{\n  \"name\": \"df\",\n  \"rows\": 962,\n  \"fields\": [\n    {\n      \"column\": \"Category\",\n      \"properties\": {\n        \"dtype\": \"number\",\n        \"std\": 7,\n        \"min\": 0,\n        \"max\": 24,\n        \"num_unique_values\": 25,\n        \"samples\": [\n          5,\n          8,\n          6\n        ],\n        \"semantic_type\": \"\",\n        \"description\": \"\"\n      }\n    },\n    {\n      \"column\": \"Resume\",\n      \"properties\": {\n        \"dtype\": \"category\",\n        \"num_unique_values\": 166,\n        \"samples\": [\n          \"KEY COMPETENCIES \\u00e2\\u009c\\u00b6Multi   Operations Management\\u00e2\\u009c\\u00b6People Management \\u00e2\\u009c\\u00b6Customer Services   Emails \\u00e2\\u009c\\u00b6 MIS \\u00e2\\u009c\\u00b6Vendor   Client Services Management\\u00e2\\u009c\\u00b6Cross Functional Coordination\\u00e2\\u009c\\u00b6Banking   Financial Services\\u00e2\\u009c\\u00b6 Transaction Monitoring   ATM Operations \\u00e2\\u009c\\u00b6   Prepaid Card Operations  Pre Issuance   Post Issuance  \\u00e2\\u009c\\u00b6 POS Operations   JOB PROFILE   SKILLS  \\u00e2\\u0080\\u00a2 An effective communicator with excellent relationship building   interpersonal skills  Strong analytical  problem solving   organizational abilities  \\u00e2\\u0080\\u00a2 Extensive experience in managing operations with demonstrated leadership qualities   organisational skills during the tenure  \\u00e2\\u0080\\u00a2 Managing customer centric operations   ensuring customer satisfaction by achieving service quality norms  \\u00e2\\u0080\\u00a2 Analyzing of all operational problems  customer complaints and take preventive and corrective actions to resolve the same  \\u00e2\\u0080\\u00a2 Receive and respond to Key customer inquiries in an effective manner and provide relevant and timely information  \\u00e2\\u0080\\u00a2 Deft in steering banking back end operations  analyzing risks and managing delinquencies with dexterity across applying techniques for maximizing recoveries and minimizing credit losses  \\u00e2\\u0080\\u00a2 Analyzed   identified training needs of the team members and developing  organizing and conducting training programs and manage bottom quartile team to improve their performance  \\u00e2\\u0080\\u00a2 Preparing and maintaining daily MIS reports to evaluate the performance and efficiency of the process relate to various verticals  \\u00e2\\u0080\\u00a2 Measuring the performance of the processes in terms of efficiency and effectiveness matrix and ensuring adherence to SLA  \\u00e2\\u0080\\u00a2 Major Activities Define processes for Field Services were monitored and necessary checks were executed and controlled  Also measured Vendor SLA by analyzing the TAT of vendors   the Client SLA provided to us  \\u00e2\\u0080\\u00a2 As per company procedures  handling   ensuring vendor's payment issues to be sorted out  payments are processed on quarterly basis  \\u00e2\\u0080\\u00a2 Appropriately plan and execute each skill of operations in aordance with the department's policies and procedures  \\u00e2\\u0080\\u00a2 Manage relationships with business team  software development team and other services to achieve project objectives  Different software Worked till now    a  CTL prime   Axis Bank Credit Cards b  Insight   For POS Machine technical operations for Amex  MID   TID Generation  ATOS  Venture Infotek  c  Ticket Management System   TATA Communications Private Services Ltd  ATM   NOC Operations  d  Branch Portal  Yalamanchili Software Exports Ltd    Prepaid Cards  SBI Bank   Zaggle Prepaid Oceans Services Ltd  Zaggle Prepaid Ocean Services Pvt Ltd Oct  2017 to Till Date Designation  Manager   Operations  Payment Industry   Prepaid Cards   INR  Education Details \\r\\n  Commerce Mumbai  Maharashtra Mumbai University\\r\\nOperations Manager \\r\\n\\r\\nService Manager   Operations  Payment Industry   Prepaid Cards   INR   FTC \\r\\nSkill Details \\r\\nOPERATIONS  Exprience   73 months\\r\\nSATISFACTION  Exprience   48 months\\r\\nTRAINING  Exprience   24 months\\r\\nNOC  Exprience   23 months\\r\\nPOINT OF SALE  Exprience   20 monthsCompany Details \\r\\ncompany   Zaggle Prepaid Ocean Services Pvt Ltd\\r\\ndescription   Card Operations\\r\\ncompany   Yalamanchili Software Exports Ltd\\r\\ndescription   24 7 Operations Pvt Ltd  Dec 2015 to Feb 2017\\r\\n\\r\\nDesignation  Service Manager   Operations  Payment Industry   Prepaid Cards   INR   FTC \\r\\n\\r\\nKey Contributions  \\u00e2\\u0080\\u00a2 A result oriented business professional in planning  executing  managing processes  improving efficiency of operations  team building and detailing process information to determine effective result into operations \\r\\n\\u00e2\\u0080\\u00a2 Ensuring PINs generation  SLA  is maintained and chargeback cases are raised in perfect timeframe \\r\\n\\u00e2\\u0080\\u00a2 Managing email customer services properly and ensuring the emails are replied properly  Also  ensuring transaction monitoring is properly managed 24 7 \\r\\n\\u00e2\\u0080\\u00a2 Assisting Bankers  SBI   Associated Banks  for their BCP plans by getting executed in the system with the help of DR PR plans   vice versa or any other business requirements \\r\\n\\u00e2\\u0080\\u00a2 Expertise in maintaining highest level of quality in operations  ensuring adherence to all the quality parameters and procedures as per the stringent norms \\r\\n\\u00e2\\u0080\\u00a2 Lead  manage and supervise the execution of external audit engagements and responsible for presenting the findings   developing a quality reports to the senior Management and Clients \\r\\n\\u00e2\\u0080\\u00a2 Coach mentor  20  team members to perform at a higher level by giving opportunities  providing timely continuous feedback and working with staff to improve their communication  time management  decision making  organization  and analytical skills \\r\\n\\u00e2\\u0080\\u00a2 Providing the solutions and services to the client in their own premises with aforesaid count of team members \\r\\n\\u00e2\\u0080\\u00a2 Also ensuring end to end process of PR   DR as per client requirements  PR  DR   DR  PR  by interacting with internal   external stakeholders \\r\\n\\u00e2\\u0080\\u00a2 Determining process gaps and designing   conducting training programs to enhance operational efficiency and retain talent by providing optimum opportunities for personal and professional growth \\r\\ncompany   Credit Cards\\r\\ndescription   Ensured highest standard of customer satisfaction and quality service  developing new policies and procedures to improve based on customer feedback and resolving customer queries via correspondence  inbound calls   email channels with the strength of  12 16  Team members \\r\\ncompany   AGS Transact Technologies Limited\\r\\ndescription   Key Contributions  Lead   SPOC to Banks\\r\\ncompany   TATA Communications Payment Solutions Ltd\\r\\ndescription   To make ATMs operational within TAT by analyzing the issue is technical or non technical and also by interacting with internal   external stakeholders \\r\\ncompany   Vertex Customer Solutions India Private Ltd\\r\\ndescription   Key Contributions  \\u00e2\\u0080\\u00a2 Build positive working relationship with all team members and clients by keeping Management informed   of KYC document collection   con current audit progress  responding timely to Management inquiries  understanding the business and conducting self professionally \\r\\ncompany   Financial Inclusion Network   Operations Limited\\r\\ndescription   Key Contributions  POS Operations \\u00e2\\u0080\\u00a2 Cascading the adherence of process is strictly followed by team members   training them to reduce the downtime \\r\\n\\u00e2\\u0080\\u00a2 Managing Stock of EDC Terminals \\u00e2\\u0080\\u00a2 Managing Deployments of terminals through Multiple teams \\u00e2\\u0080\\u00a2 Would have worked with multiple terminal make   model \\u00e2\\u0080\\u00a2 Managing Inward  Outward   QC of applications installed in the POS machines \\r\\ncompany   Venture Infotek Private Ltd\\r\\ndescription   Key Contributions  POS Operations\\r\\ncompany   Axis Bank Ltd   Customer Services\\r\\ndescription   Aug 2006 to Oct 2009  Ma Foi I  smart \\r\\n\\r\\nDesignation  Team Leader Executive   Emails  Phone Banking   Correspondence Unit  Snail Mails \",\n          \"Skill Set  Hadoop  Map Reduce  HDFS  Hive  Sqoop  java  Duration  2016 to 2017  Role  Hadoop Developer Rplus offers an quick  simple and powerful cloud based Solution  Demand Sense to aurately predict demand for your product in all your markets which Combines Enterprise and External Data to predict demand more aurately through Uses Social Conversation and Sentiments to derive demand and Identifies significant drivers of sale out of hordes of factors that Selects the best suited model out of multiple forecasting models for each product  Responsibilities  \\u00e2\\u0080\\u00a2 Involved in deploying the product for customers  gathering requirements and algorithm optimization at backend of the product  \\u00e2\\u0080\\u00a2 Load and transform Large Datasets of structured semi structured  \\u00e2\\u0080\\u00a2 Responsible to manage data coming from different sources and application \\u00e2\\u0080\\u00a2 Supported Map Reduce Programs those are running on the cluster \\u00e2\\u0080\\u00a2 Involved in creating Hive tables  loading with data and writing hive queries which will run internally in map reduce way Education Details \\r\\n\\r\\nHadoop Developer \\r\\n\\r\\nHadoop Developer   Braindatawire\\r\\nSkill Details \\r\\nAPACHE HADOOP HDFS  Exprience   49 months\\r\\nAPACHE HADOOP SQOOP  Exprience   49 months\\r\\nHadoop  Exprience   49 months\\r\\nHADOOP  Exprience   49 months\\r\\nHADOOP DISTRIBUTED FILE SYSTEM  Exprience   49 monthsCompany Details \\r\\ncompany   Braindatawire\\r\\ndescription   Technical Skills \\r\\n\\u00e2\\u0080\\u00a2   Programming  Core Java  Map Reduce  Scala\\r\\n\\u00e2\\u0080\\u00a2   Hadoop Tools  HDFS  Spark  Map Reduce  Sqoop  Hive  Hbase\\r\\n\\u00e2\\u0080\\u00a2   Database  MySQL  Oracle\\r\\n\\u00e2\\u0080\\u00a2   Scripting  Shell Scripting\\r\\n\\u00e2\\u0080\\u00a2   IDE  Eclipse\\r\\n\\u00e2\\u0080\\u00a2   Operating Systems  Linux  CentOS   Windows\\r\\n\\u00e2\\u0080\\u00a2   Source Control  Git  Github \",\n          \"IT Skills  Area Exposure Modeling Tool  Bizagi  MS Visio Prototyping Tool  Indigo Studio  Documentation  MS Office  MS Word  MS Excel  MS Power Point  Testing Proficiency  Smoke  Sanity  Integration  Functional  Aeptance and UI Methodology implemented  Waterfall  Agile  Scrum  Database  SQL Testing Tool  HPQC Business Exposure Education Details \\r\\n Bachelor Of Computer Engineering Computer Engineering Mumbai  Maharashtra Thadomal Shahani Engineering college\\r\\n Diploma Computer Engineering Ulhasnagar  Maharashtra Institute of Technology\\r\\n Secondary School Certificate  Ulhasnagar  Maharashtra New English High School\\r\\nSenior Business Analyst   RPA \\r\\n\\r\\nSenior Business Analyst   RPA   Hexaware Technologies\\r\\nSkill Details \\r\\nDOCUMENTATION  Exprience   47 months\\r\\nTESTING  Exprience   29 months\\r\\nINTEGRATION  Exprience   25 months\\r\\nINTEGRATOR  Exprience   25 months\\r\\nPROTOTYPE  Exprience   13 monthsCompany Details \\r\\ncompany   Hexaware Technologies\\r\\ndescription   Working as a RPA Business Analyst\\r\\ncompany   BBH  Brown Brothers Harriman   Co\\r\\ndescription   is a private bank that provides commercial banking  investment management  brokerage  and trust services to private companies and individuals  It also performs merger advisory  foreign exchange  custody services  commercial banking  and corporate financing services \\r\\n\\r\\nResponsibilities  \\u00e2\\u0080\\u00a2 Performed Automation Assessment of various Processes and identified processes which can be candidates of RPA \\r\\n\\u00e2\\u0080\\u00a2 Conducting Assessment that involves an initial Understanding of the Existing System  their technology  processes  Usage of the tools  Feasibility of tool with automation tool along with automation ROI analysis \\r\\n\\u00e2\\u0080\\u00a2 Preparing the Automation Potential Sheet which describes the steps in the process  the volume and frequency of the transaction  the AHT taken by SME to perform the process and depending on the steps that could be automated  Automation potential and the manual efforts that will be saved are calculated \\r\\nCalculating the complexity of the Process which is considered for automation and depending on all these factors Number of Bots and Number of Automation tool Licenses are determined \\r\\n\\u00e2\\u0080\\u00a2 Implementing a Proof of Concept  POC  to Validate Feasibility by executing the selected critical use cases for conducting a POC which will helps to identify financial and operational benefits and provide recommendations regarding the actual need for complete automation \\r\\n\\u00e2\\u0080\\u00a2 Gathering business requirements by conducting detailed interviews with business users  stakeholders  and Subject Matter Experts  SME's  \\u00e2\\u0080\\u00a2 Preparing Business Requirement Document and then converted Business requirements into Functional Requirements Specification \\r\\n \\u00e2\\u0080\\u00a2 Constructing prototype early toward a design aeptable to the customer and feasible \\r\\n\\u00e2\\u0080\\u00a2 Assisting in designing test plans  test scenarios and test cases for integration  regression  and user aeptance testing  UAT  to improve the overall quality of the Automation \\r\\n\\u00e2\\u0080\\u00a2 Participating regularly in Walkthroughs and Review meetings with Project Manager  QA Engineers  and Development team \\r\\n\\u00e2\\u0080\\u00a2 Regularly interacting with offshore and onshore development teams \\r\\ncompany   FADV   First Advantage\\r\\ndescription   is a criminal background check company that delivers global solutions ranging from employment screenings to background checks \\r\\nThe following are the processes which were covered \\r\\nEmail Process  Research Process  Review Process \\r\\n\\r\\nResponsibilities  \\u00e2\\u0080\\u00a2 Requirement Gathering through conducting Interviews   Brainstorming sessions with stakeholders \\u00e2\\u0080\\u00a2 To develop decision models and execute those rules as per the use case specifications \\r\\n\\u00e2\\u0080\\u00a2 To Test validate the decision models against document test data \\r\\n\\u00e2\\u0080\\u00a2 To maintain and enhance the decision models for changes in regulations as per use case specifications \\r\\n\\u00e2\\u0080\\u00a2 Responsible for performing the business research that will make a business growth \\r\\n\\u00e2\\u0080\\u00a2 Developing a clear understanding of existing business functions and processes \\r\\n\\u00e2\\u0080\\u00a2 Effectively communicate with the onsite clients for the queries  suggestions  and update \\r\\n\\u00e2\\u0080\\u00a2 Giving suggestions to enhance the current processes \\r\\n\\u00e2\\u0080\\u00a2 Identifying areas for process improvement \\r\\n\\u00e2\\u0080\\u00a2 Flagging up potential problems at an early stage \\r\\n\\u00e2\\u0080\\u00a2 Preparing PowerPoint presentations and documents for business meetings \\r\\n\\u00e2\\u0080\\u00a2 Using any information gathered to write up detailed reports \\r\\n\\u00e2\\u0080\\u00a2 Highlighting risks and issues that could impact project delivery \\r\\n\\u00e2\\u0080\\u00a2 Able to work aurately \\r\\n\\u00e2\\u0080\\u00a2 To develop and maintain documentation for internal team training and client end user operations \\r\\n\\u00e2\\u0080\\u00a2 To work efficiently with team members and across teams \\r\\n\\u00e2\\u0080\\u00a2 To mentor and train junior team members \\r\\ncompany   Clinical Testing  Lab Work and Diagnostic Testing\\r\\ndescription   IQVIA provides services to its customers this includes  Clinical Testing  Lab Work and Diagnostic Testing under clinical trial  These customers need to pay to IQVIA and aging details and invoices are generated for the same \\r\\nThe following are the processes which were covered \\r\\n\\r\\nTracking Payments  Automated Real Time Metrics Reporting  Dashboard   Past Due Notifications  AR Statements  Credit Rebill \\r\\nResponsibilities  \\u00e2\\u0080\\u00a2 Conducting meetings with clients and key stakeholders to gather requirements  analyze  finalize and have formal sign offs from approvers Gather and perform analysis of the business requirements \\u00e2\\u0080\\u00a2 Translating the business requirements into the Business Requirement Document  BRD   Functional Requirement Document  FRD  \\r\\n\\u00e2\\u0080\\u00a2 Facilitating meetings with the appropriate subject matter experts in both business and technology teams \\u00e2\\u0080\\u00a2 Coordinating with business user community for the execution of user aeptance test as well as tracking issues \\u00e2\\u0080\\u00a2 Working  collaborating and coordinating with Offshore and Onsite team members to fulfill the BA responsibilities from project initiation to Post Implementation \\u00e2\\u0080\\u00a2 Reviewing the test scripts with business users as well as technology team  Execute test scripts with expected results for the System Integration Test  SIT  and User Aeptance Test  UAT  \\u00e2\\u0080\\u00a2 Coordinating and conducting the Production Aeptance Testing  PAT  with the business users \\u00e2\\u0080\\u00a2 Creating flow diagrams  structure charts  and other types of system or process representations \\u00e2\\u0080\\u00a2 Managing changes to requirements and baseline through a change control process \\u00e2\\u0080\\u00a2 Utilizing standard methods  design and testing tools throughout project development life cycle \\u00e2\\u0080\\u00a2 Work closely with the operational functional teams  operations management  and personnel  and various technology teams to facilitate a shared understanding of requirements and priorities across all areas\\r\\ncompany   Eduavenir IT Solution\\r\\ndescription   Project  M B M S\\r\\n\\r\\nM B M S    is an Inventory management application that allows user to manage inventory details of different warehouses  having different products located at various locations and help extract what goods have been procured  sold or returned by customers  It generates automated invoicesalong withcustomized reports  It also managescustomer complaint and resolution system implementation along with automated MIS on monthly basis Sales and forecastingis also developed on MIS System and the streamlining of process of warehousing and dispatch along with online proof of delivery management system  POD documentation  is generated \\r\\n\\r\\nResponsibilities  \\u00e2\\u0080\\u00a2 Participate in requirement gathering discussion with client to understand the flow of business processes \\u00e2\\u0080\\u00a2 Analyze the requirements and determine the core processes  develop Process Documentation and ensure to stay up to date in conjunction with on going changes \\u00e2\\u0080\\u00a2 Participate in process flow analysis and preparing BRD  SRS \\r\\n\\u00e2\\u0080\\u00a2 Coordinating with developers  designers   operations teams for various nuances of the project  communicate the stakeholder requirements from requirement  enhancement to implementation and finally deliver the same within estimated timeframe \\r\\n\\u00e2\\u0080\\u00a2 Support UAT by reviewing test cases  manage version control of documents  software builds \\r\\n\\u00e2\\u0080\\u00a2 Coordinate with the stakeholders for UAT sign off and coordinate internally for production movement till Golive stage of the application \\r\\n\\u00e2\\u0080\\u00a2 Provide demo and training to internal and end user using PowerPoint presentation \\r\\n\\u00e2\\u0080\\u00a2 Resolving project functional  technical issues during UAT \\r\\n\\u00e2\\u0080\\u00a2 Prioritizing the Production bugs and resolving the same within the estimated timeframe \\r\\n\\u00e2\\u0080\\u00a2 Preparing Project Status Report and Production Bugs Status to all the stakeholders \\r\\n\\u00e2\\u0080\\u00a2 Promoting and Networking for online trading platform \\r\\n\\u00e2\\u0080\\u00a2 Designing query sheet for obtaining and comparison of quotes from various vendors \\r\\n\\u00e2\\u0080\\u00a2 Development of product codes   material codes for inventory management  Master Data Management \\r\\ncompany   CAPGEMINI Head Office\\r\\ndescription   Type  Mobile and Device Testing        Duration  January 2014   August 2014\\r\\n\\r\\nFollet   An application which takes an electronic request from the user for the books he requires from a particular follet store  This detailed information about books that will include the name of the book  its price  the date of the transaction and the parties involved which will then be sent to follet stores  User then create request for one or more books for a given date  This request is then processed further and user gets a mail of the date when he will be provided with that book \\r\\n\\r\\nResponsibilities  \\u00e2\\u0080\\u00a2 Understanding the needs and business requirements \\r\\n\\u00e2\\u0080\\u00a2 Preparing BRD  SRS by eliciting all the requirements from the client and SMEs \\u00e2\\u0080\\u00a2 Understanding the dependency of the modules in the system \\u00e2\\u0080\\u00a2 Preparation of test plan for Unit level and Integration level \\r\\n\\u00e2\\u0080\\u00a2 Preparation and execution of test cases \\r\\n\\u00e2\\u0080\\u00a2 Defect tracking  Issue Resolution  Risk Monitoring  Status Tracking  Reporting and Follow up \\r\\n\\u00e2\\u0080\\u00a2 Preparation of Test Completion report \\r\\ncompany   CAPGEMINI Head Office\\r\\ndescription   \\r\\ncompany   CAPGEMINI Head Office\\r\\ndescription   Humana is a health care insurance project of U S  which deals with supplying various medicines to citizens as per the doctor's reference and patient's insurance policy  This application keeps track of all the medicines user has consumed in the past and generates a patient history  A citizen is given a drug only after the doctor's reference so the doctor's information is also linked with the patient's history \\r\\n\\r\\nResponsibilities  \\u00e2\\u0080\\u00a2 Understanding the requirements and getting clarifications from client \\r\\n\\u00e2\\u0080\\u00a2 Involved in writing test cases based on test scenarios and execute them \\r\\n\\u00e2\\u0080\\u00a2 Ensuring Test Coverage using Requirement Traceability Matrix  M  \\u00e2\\u0080\\u00a2 Preparation of Test Completion report \\r\\ncompany   CAPGEMINI Head Office\\r\\ndescription   Testing Trends WQR  World Quality Report  is an application which allows the users to take a survey on different methods and technologies used for testing  Users can choose to answer any type of questions under three different categories  Users have a facility to search  view and export the data to excel  Also  users get daily and weekly reports through email about the new trends in testing implemented around the globe  Testing Trends WQR app is available on Android and IOS platforms \\r\\n\\r\\nResponsibilities  \\u00e2\\u0080\\u00a2 Understanding the requirements and getting clarifications from client \\r\\n\\u00e2\\u0080\\u00a2 Writing test cases based on test scenarios and executed them \\r\\n\\u00e2\\u0080\\u00a2 Performing different types of testing such as Functional  Integration  System  and UAT \\r\\n\\u00e2\\u0080\\u00a2 Defect resolution and maintenance of the application \"\n        ],\n        \"semantic_type\": \"\",\n        \"description\": \"\"\n      }\n    }\n  ]\n}"
            }
          },
          "metadata": {},
          "execution_count": 37
        }
      ]
    },
    {
      "cell_type": "code",
      "source": [
        "from sklearn.feature_extraction.text import TfidfVectorizer"
      ],
      "metadata": {
        "id": "TmJ6zJQinSqG"
      },
      "execution_count": null,
      "outputs": []
    },
    {
      "cell_type": "code",
      "source": [
        "tfidf=TfidfVectorizer(stop_words='english')\n",
        "tfidf.fit(df['Resume'])"
      ],
      "metadata": {
        "colab": {
          "base_uri": "https://localhost:8080/",
          "height": 74
        },
        "id": "DwBMmWkUngg6",
        "outputId": "ea604ad0-f855-460e-c653-df2a0ebdf444"
      },
      "execution_count": null,
      "outputs": [
        {
          "output_type": "execute_result",
          "data": {
            "text/plain": [
              "TfidfVectorizer(stop_words='english')"
            ],
            "text/html": [
              "<style>#sk-container-id-3 {color: black;background-color: white;}#sk-container-id-3 pre{padding: 0;}#sk-container-id-3 div.sk-toggleable {background-color: white;}#sk-container-id-3 label.sk-toggleable__label {cursor: pointer;display: block;width: 100%;margin-bottom: 0;padding: 0.3em;box-sizing: border-box;text-align: center;}#sk-container-id-3 label.sk-toggleable__label-arrow:before {content: \"▸\";float: left;margin-right: 0.25em;color: #696969;}#sk-container-id-3 label.sk-toggleable__label-arrow:hover:before {color: black;}#sk-container-id-3 div.sk-estimator:hover label.sk-toggleable__label-arrow:before {color: black;}#sk-container-id-3 div.sk-toggleable__content {max-height: 0;max-width: 0;overflow: hidden;text-align: left;background-color: #f0f8ff;}#sk-container-id-3 div.sk-toggleable__content pre {margin: 0.2em;color: black;border-radius: 0.25em;background-color: #f0f8ff;}#sk-container-id-3 input.sk-toggleable__control:checked~div.sk-toggleable__content {max-height: 200px;max-width: 100%;overflow: auto;}#sk-container-id-3 input.sk-toggleable__control:checked~label.sk-toggleable__label-arrow:before {content: \"▾\";}#sk-container-id-3 div.sk-estimator input.sk-toggleable__control:checked~label.sk-toggleable__label {background-color: #d4ebff;}#sk-container-id-3 div.sk-label input.sk-toggleable__control:checked~label.sk-toggleable__label {background-color: #d4ebff;}#sk-container-id-3 input.sk-hidden--visually {border: 0;clip: rect(1px 1px 1px 1px);clip: rect(1px, 1px, 1px, 1px);height: 1px;margin: -1px;overflow: hidden;padding: 0;position: absolute;width: 1px;}#sk-container-id-3 div.sk-estimator {font-family: monospace;background-color: #f0f8ff;border: 1px dotted black;border-radius: 0.25em;box-sizing: border-box;margin-bottom: 0.5em;}#sk-container-id-3 div.sk-estimator:hover {background-color: #d4ebff;}#sk-container-id-3 div.sk-parallel-item::after {content: \"\";width: 100%;border-bottom: 1px solid gray;flex-grow: 1;}#sk-container-id-3 div.sk-label:hover label.sk-toggleable__label {background-color: #d4ebff;}#sk-container-id-3 div.sk-serial::before {content: \"\";position: absolute;border-left: 1px solid gray;box-sizing: border-box;top: 0;bottom: 0;left: 50%;z-index: 0;}#sk-container-id-3 div.sk-serial {display: flex;flex-direction: column;align-items: center;background-color: white;padding-right: 0.2em;padding-left: 0.2em;position: relative;}#sk-container-id-3 div.sk-item {position: relative;z-index: 1;}#sk-container-id-3 div.sk-parallel {display: flex;align-items: stretch;justify-content: center;background-color: white;position: relative;}#sk-container-id-3 div.sk-item::before, #sk-container-id-3 div.sk-parallel-item::before {content: \"\";position: absolute;border-left: 1px solid gray;box-sizing: border-box;top: 0;bottom: 0;left: 50%;z-index: -1;}#sk-container-id-3 div.sk-parallel-item {display: flex;flex-direction: column;z-index: 1;position: relative;background-color: white;}#sk-container-id-3 div.sk-parallel-item:first-child::after {align-self: flex-end;width: 50%;}#sk-container-id-3 div.sk-parallel-item:last-child::after {align-self: flex-start;width: 50%;}#sk-container-id-3 div.sk-parallel-item:only-child::after {width: 0;}#sk-container-id-3 div.sk-dashed-wrapped {border: 1px dashed gray;margin: 0 0.4em 0.5em 0.4em;box-sizing: border-box;padding-bottom: 0.4em;background-color: white;}#sk-container-id-3 div.sk-label label {font-family: monospace;font-weight: bold;display: inline-block;line-height: 1.2em;}#sk-container-id-3 div.sk-label-container {text-align: center;}#sk-container-id-3 div.sk-container {/* jupyter's `normalize.less` sets `[hidden] { display: none; }` but bootstrap.min.css set `[hidden] { display: none !important; }` so we also need the `!important` here to be able to override the default hidden behavior on the sphinx rendered scikit-learn.org. See: https://github.com/scikit-learn/scikit-learn/issues/21755 */display: inline-block !important;position: relative;}#sk-container-id-3 div.sk-text-repr-fallback {display: none;}</style><div id=\"sk-container-id-3\" class=\"sk-top-container\"><div class=\"sk-text-repr-fallback\"><pre>TfidfVectorizer(stop_words=&#x27;english&#x27;)</pre><b>In a Jupyter environment, please rerun this cell to show the HTML representation or trust the notebook. <br />On GitHub, the HTML representation is unable to render, please try loading this page with nbviewer.org.</b></div><div class=\"sk-container\" hidden><div class=\"sk-item\"><div class=\"sk-estimator sk-toggleable\"><input class=\"sk-toggleable__control sk-hidden--visually\" id=\"sk-estimator-id-3\" type=\"checkbox\" checked><label for=\"sk-estimator-id-3\" class=\"sk-toggleable__label sk-toggleable__label-arrow\">TfidfVectorizer</label><div class=\"sk-toggleable__content\"><pre>TfidfVectorizer(stop_words=&#x27;english&#x27;)</pre></div></div></div></div></div>"
            ]
          },
          "metadata": {},
          "execution_count": 39
        }
      ]
    },
    {
      "cell_type": "code",
      "source": [
        "requiredtext=tfidf.transform(df['Resume'])"
      ],
      "metadata": {
        "id": "UUcXouGWnvAv"
      },
      "execution_count": null,
      "outputs": []
    },
    {
      "cell_type": "code",
      "source": [
        "print(requiredtext)"
      ],
      "metadata": {
        "colab": {
          "base_uri": "https://localhost:8080/"
        },
        "id": "UpGZpjGwoBA_",
        "outputId": "314a5f34-f219-41fb-d116-279b72aed8b9"
      },
      "execution_count": null,
      "outputs": [
        {
          "output_type": "stream",
          "name": "stdout",
          "text": [
            "  (0, 7363)\t0.07791838313618284\n",
            "  (0, 7351)\t0.013773935617086773\n",
            "  (0, 7298)\t0.015623956436878255\n",
            "  (0, 7294)\t0.08208089215094955\n",
            "  (0, 7293)\t0.04529282661236908\n",
            "  (0, 7292)\t0.07363448111591957\n",
            "  (0, 7148)\t0.09058565322473816\n",
            "  (0, 7135)\t0.03209300708360493\n",
            "  (0, 7065)\t0.03563467529338486\n",
            "  (0, 7061)\t0.07917736197354959\n",
            "  (0, 7048)\t0.015070726656576475\n",
            "  (0, 7023)\t0.04529282661236908\n",
            "  (0, 6998)\t0.014495067472230672\n",
            "  (0, 6993)\t0.05614419261764604\n",
            "  (0, 6991)\t0.018462126900691832\n",
            "  (0, 6986)\t0.02570126277514359\n",
            "  (0, 6961)\t0.041040446075474774\n",
            "  (0, 6936)\t0.021083158514245675\n",
            "  (0, 6935)\t0.022800124584703946\n",
            "  (0, 6853)\t0.04529282661236908\n",
            "  (0, 6832)\t0.04529282661236908\n",
            "  (0, 6748)\t0.18219672162077524\n",
            "  (0, 6747)\t0.06347026993336576\n",
            "  (0, 6746)\t0.09068830341053319\n",
            "  (0, 6707)\t0.0340400803211732\n",
            "  :\t:\n",
            "  (961, 1643)\t0.0483246284265704\n",
            "  (961, 1451)\t0.014243638406091599\n",
            "  (961, 1403)\t0.0543835808798097\n",
            "  (961, 1338)\t0.0717365259606932\n",
            "  (961, 1244)\t0.06873311831211502\n",
            "  (961, 1158)\t0.08281846131048903\n",
            "  (961, 1059)\t0.0458088666503488\n",
            "  (961, 1058)\t0.0578774709959592\n",
            "  (961, 1006)\t0.07794344183286364\n",
            "  (961, 849)\t0.11921361802472567\n",
            "  (961, 758)\t0.039632312479073145\n",
            "  (961, 718)\t0.055280548667350424\n",
            "  (961, 716)\t0.11911025993244105\n",
            "  (961, 578)\t0.08585782587548715\n",
            "  (961, 527)\t0.05852502061339101\n",
            "  (961, 516)\t0.17658054153005184\n",
            "  (961, 511)\t0.0403536634968782\n",
            "  (961, 118)\t0.08281846131048903\n",
            "  (961, 99)\t0.03016063046207152\n",
            "  (961, 95)\t0.036702275137684266\n",
            "  (961, 94)\t0.0427667943927969\n",
            "  (961, 90)\t0.04622175464385465\n",
            "  (961, 88)\t0.04140923065524452\n",
            "  (961, 84)\t0.05079264817039887\n",
            "  (961, 15)\t0.14595659755904314\n"
          ]
        }
      ]
    },
    {
      "cell_type": "code",
      "source": [
        "from sklearn.model_selection import train_test_split\n",
        "\n",
        "x_train,x_test,y_train,y_test=train_test_split(requiredtext,df['Category'],test_size=0.2,random_state=87)"
      ],
      "metadata": {
        "id": "ANVgVcHdoFXM"
      },
      "execution_count": null,
      "outputs": []
    },
    {
      "cell_type": "code",
      "source": [
        "from sklearn.neighbors import KNeighborsClassifier\n",
        "\n",
        "model=KNeighborsClassifier()\n",
        "model.fit(x_train,y_train)"
      ],
      "metadata": {
        "colab": {
          "base_uri": "https://localhost:8080/",
          "height": 74
        },
        "id": "An6nSeGLosLy",
        "outputId": "a03c6b71-bc66-4c79-bacf-beca056ad782"
      },
      "execution_count": null,
      "outputs": [
        {
          "output_type": "execute_result",
          "data": {
            "text/plain": [
              "KNeighborsClassifier()"
            ],
            "text/html": [
              "<style>#sk-container-id-4 {color: black;background-color: white;}#sk-container-id-4 pre{padding: 0;}#sk-container-id-4 div.sk-toggleable {background-color: white;}#sk-container-id-4 label.sk-toggleable__label {cursor: pointer;display: block;width: 100%;margin-bottom: 0;padding: 0.3em;box-sizing: border-box;text-align: center;}#sk-container-id-4 label.sk-toggleable__label-arrow:before {content: \"▸\";float: left;margin-right: 0.25em;color: #696969;}#sk-container-id-4 label.sk-toggleable__label-arrow:hover:before {color: black;}#sk-container-id-4 div.sk-estimator:hover label.sk-toggleable__label-arrow:before {color: black;}#sk-container-id-4 div.sk-toggleable__content {max-height: 0;max-width: 0;overflow: hidden;text-align: left;background-color: #f0f8ff;}#sk-container-id-4 div.sk-toggleable__content pre {margin: 0.2em;color: black;border-radius: 0.25em;background-color: #f0f8ff;}#sk-container-id-4 input.sk-toggleable__control:checked~div.sk-toggleable__content {max-height: 200px;max-width: 100%;overflow: auto;}#sk-container-id-4 input.sk-toggleable__control:checked~label.sk-toggleable__label-arrow:before {content: \"▾\";}#sk-container-id-4 div.sk-estimator input.sk-toggleable__control:checked~label.sk-toggleable__label {background-color: #d4ebff;}#sk-container-id-4 div.sk-label input.sk-toggleable__control:checked~label.sk-toggleable__label {background-color: #d4ebff;}#sk-container-id-4 input.sk-hidden--visually {border: 0;clip: rect(1px 1px 1px 1px);clip: rect(1px, 1px, 1px, 1px);height: 1px;margin: -1px;overflow: hidden;padding: 0;position: absolute;width: 1px;}#sk-container-id-4 div.sk-estimator {font-family: monospace;background-color: #f0f8ff;border: 1px dotted black;border-radius: 0.25em;box-sizing: border-box;margin-bottom: 0.5em;}#sk-container-id-4 div.sk-estimator:hover {background-color: #d4ebff;}#sk-container-id-4 div.sk-parallel-item::after {content: \"\";width: 100%;border-bottom: 1px solid gray;flex-grow: 1;}#sk-container-id-4 div.sk-label:hover label.sk-toggleable__label {background-color: #d4ebff;}#sk-container-id-4 div.sk-serial::before {content: \"\";position: absolute;border-left: 1px solid gray;box-sizing: border-box;top: 0;bottom: 0;left: 50%;z-index: 0;}#sk-container-id-4 div.sk-serial {display: flex;flex-direction: column;align-items: center;background-color: white;padding-right: 0.2em;padding-left: 0.2em;position: relative;}#sk-container-id-4 div.sk-item {position: relative;z-index: 1;}#sk-container-id-4 div.sk-parallel {display: flex;align-items: stretch;justify-content: center;background-color: white;position: relative;}#sk-container-id-4 div.sk-item::before, #sk-container-id-4 div.sk-parallel-item::before {content: \"\";position: absolute;border-left: 1px solid gray;box-sizing: border-box;top: 0;bottom: 0;left: 50%;z-index: -1;}#sk-container-id-4 div.sk-parallel-item {display: flex;flex-direction: column;z-index: 1;position: relative;background-color: white;}#sk-container-id-4 div.sk-parallel-item:first-child::after {align-self: flex-end;width: 50%;}#sk-container-id-4 div.sk-parallel-item:last-child::after {align-self: flex-start;width: 50%;}#sk-container-id-4 div.sk-parallel-item:only-child::after {width: 0;}#sk-container-id-4 div.sk-dashed-wrapped {border: 1px dashed gray;margin: 0 0.4em 0.5em 0.4em;box-sizing: border-box;padding-bottom: 0.4em;background-color: white;}#sk-container-id-4 div.sk-label label {font-family: monospace;font-weight: bold;display: inline-block;line-height: 1.2em;}#sk-container-id-4 div.sk-label-container {text-align: center;}#sk-container-id-4 div.sk-container {/* jupyter's `normalize.less` sets `[hidden] { display: none; }` but bootstrap.min.css set `[hidden] { display: none !important; }` so we also need the `!important` here to be able to override the default hidden behavior on the sphinx rendered scikit-learn.org. See: https://github.com/scikit-learn/scikit-learn/issues/21755 */display: inline-block !important;position: relative;}#sk-container-id-4 div.sk-text-repr-fallback {display: none;}</style><div id=\"sk-container-id-4\" class=\"sk-top-container\"><div class=\"sk-text-repr-fallback\"><pre>KNeighborsClassifier()</pre><b>In a Jupyter environment, please rerun this cell to show the HTML representation or trust the notebook. <br />On GitHub, the HTML representation is unable to render, please try loading this page with nbviewer.org.</b></div><div class=\"sk-container\" hidden><div class=\"sk-item\"><div class=\"sk-estimator sk-toggleable\"><input class=\"sk-toggleable__control sk-hidden--visually\" id=\"sk-estimator-id-4\" type=\"checkbox\" checked><label for=\"sk-estimator-id-4\" class=\"sk-toggleable__label sk-toggleable__label-arrow\">KNeighborsClassifier</label><div class=\"sk-toggleable__content\"><pre>KNeighborsClassifier()</pre></div></div></div></div></div>"
            ]
          },
          "metadata": {},
          "execution_count": 43
        }
      ]
    },
    {
      "cell_type": "code",
      "source": [
        "model.predict(x_test)"
      ],
      "metadata": {
        "colab": {
          "base_uri": "https://localhost:8080/"
        },
        "id": "Dgkaz-yapBWX",
        "outputId": "e651b35d-b846-4dff-a39a-80a4b15fd17d"
      },
      "execution_count": null,
      "outputs": [
        {
          "output_type": "execute_result",
          "data": {
            "text/plain": [
              "array([12, 15, 21, 23,  4, 20,  5, 11, 15, 23, 10,  2, 18,  3, 24,  3, 10,\n",
              "       20, 10, 15,  6,  8, 19,  0,  8, 22,  9, 11, 15, 19,  3,  2, 15,  7,\n",
              "        5, 23,  5, 15, 17, 24,  8,  8,  1,  6,  8, 10, 14, 12, 10, 23, 20,\n",
              "       20, 22,  1,  6, 18, 15,  0,  2,  4,  7,  7, 17, 13, 21,  3, 10, 11,\n",
              "        4, 17, 12, 15,  6, 13,  0, 23, 21, 23, 19, 10,  6, 21, 12,  6,  7,\n",
              "       11, 21, 13,  8,  3, 15, 15, 21,  6, 22, 16, 21,  2, 21,  9,  8, 21,\n",
              "       11, 14, 15, 17,  6, 16, 24,  2, 17,  7,  4, 11, 15, 21,  8, 18, 23,\n",
              "       12, 23, 19,  7, 12, 23,  1,  6,  4,  8, 15,  2, 21,  3, 23, 20,  7,\n",
              "        9, 23,  8,  9, 13,  8, 10, 19,  5, 22,  9,  9, 17, 21,  3, 12,  6,\n",
              "       20,  4, 12, 20,  5, 24, 19,  9, 21,  9, 16,  6,  4, 10,  9, 17, 15,\n",
              "        1,  8, 15,  9, 15, 11, 11, 22,  8, 10,  1, 23,  7,  2, 16,  5, 10,\n",
              "        3,  1, 10, 12, 24, 15])"
            ]
          },
          "metadata": {},
          "execution_count": 44
        }
      ]
    },
    {
      "cell_type": "code",
      "source": [
        "from sklearn.metrics import classification_report\n",
        "y_pred=model.predict(x_test)\n",
        "print(classification_report(y_pred,y_test))"
      ],
      "metadata": {
        "colab": {
          "base_uri": "https://localhost:8080/"
        },
        "id": "oji5LKKXpFVs",
        "outputId": "3026ca19-0a24-4f6f-e781-e0d2fdd7c654"
      },
      "execution_count": null,
      "outputs": [
        {
          "output_type": "stream",
          "name": "stdout",
          "text": [
            "              precision    recall  f1-score   support\n",
            "\n",
            "           0       0.75      1.00      0.86         3\n",
            "           1       1.00      1.00      1.00         6\n",
            "           2       1.00      1.00      1.00         7\n",
            "           3       1.00      1.00      1.00         8\n",
            "           4       1.00      1.00      1.00         7\n",
            "           5       1.00      1.00      1.00         6\n",
            "           6       0.79      1.00      0.88        11\n",
            "           7       1.00      1.00      1.00         8\n",
            "           8       1.00      1.00      1.00        13\n",
            "           9       1.00      1.00      1.00        10\n",
            "          10       1.00      1.00      1.00        12\n",
            "          11       1.00      1.00      1.00         8\n",
            "          12       1.00      0.89      0.94         9\n",
            "          13       1.00      1.00      1.00         4\n",
            "          14       1.00      1.00      1.00         2\n",
            "          15       1.00      1.00      1.00        17\n",
            "          16       1.00      1.00      1.00         4\n",
            "          17       1.00      1.00      1.00         7\n",
            "          18       1.00      1.00      1.00         3\n",
            "          19       1.00      1.00      1.00         6\n",
            "          20       1.00      1.00      1.00         7\n",
            "          21       1.00      0.77      0.87        13\n",
            "          22       1.00      1.00      1.00         5\n",
            "          23       1.00      1.00      1.00        12\n",
            "          24       1.00      1.00      1.00         5\n",
            "\n",
            "    accuracy                           0.98       193\n",
            "   macro avg       0.98      0.99      0.98       193\n",
            "weighted avg       0.98      0.98      0.98       193\n",
            "\n"
          ]
        }
      ]
    },
    {
      "cell_type": "code",
      "source": [
        "# prediction part\n",
        "\n",
        "import pickle\n",
        "\n",
        "pickle.dump(tfidf,open('tfidf.pkl','wb'))\n",
        "pickle.dump(model,open('kn.pkl','wb'))"
      ],
      "metadata": {
        "id": "c7LRX09EpYh2"
      },
      "execution_count": null,
      "outputs": []
    },
    {
      "cell_type": "code",
      "source": [
        "#As an enthusiastic and innovative aspiring Data scientist and passionate about converting the data into decisions. My academic background in Computer Science, combined with my hands on experience in Data analysis and Machine Learning.\n",
        "resume=\"\"\"Analysis on House rent prediction of WASHINGTON D.C\n",
        "\n",
        "•Implemented predictive models for house rent in\n",
        "     Washington D.C., doing analysis and advanced\n",
        "\n",
        "     feature engineering.\n",
        "\n",
        "•The raw dataset consist of missing value, duplicates that is further analyzed and converted to proper insights.\n",
        "Text-to-Text generation and Text-to-Speech\n",
        "\n",
        "•We can translate any type of language ,that we\n",
        "      wanted to and can also generate it's speech\n",
        "\n",
        "      accordingly.\n",
        "\n",
        "Credit Card Fraud Detection\n",
        "\n",
        "•Extracting the data and appling pre-processing techniques after that creating a model according to the data.  And then predicting it.\n",
        "Sentiment Analysis\n",
        "\n",
        "•It shows the emotions according to the sentence\n",
        "     we write.\n",
        "\n",
        "•It predict the emotions of human being.\n",
        "\n",
        "\n",
        "\"\"\"\n",
        "\n",
        "x=pickle.load(open('kn.pkl','rb'))\n",
        "cleaned_resume=cleanResume(resume)\n",
        "\n",
        "input_features=tfidf.transform([cleaned_resume])\n",
        "\n",
        "prediction_id=x.predict(input_features)[0]\n",
        "category_mapping={\n",
        "            15: \"Java Developer\",\n",
        "            23: \"Testing\",\n",
        "            8: \"DevOps Engineer\",\n",
        "            20: \"Python Developer\",\n",
        "            24: \"Web Designing\",\n",
        "            12: \"HR\",\n",
        "            13: \"Hadoop\",\n",
        "            3: \"Blockchain\",\n",
        "            10: \"ETL Developer\",\n",
        "            18: \"Operations Manager\",\n",
        "            6: \"Data Science\",\n",
        "            22: \"Sales\",\n",
        "            16: \"Mechanical Engineer\",\n",
        "            1: \"Arts\",\n",
        "            7: \"Database\",\n",
        "            11: \"Electrical Engineering\",\n",
        "            14: \"Health and fitness\",\n",
        "            19: \"PMO\",\n",
        "            4: \"Business Analyst\",\n",
        "            9: \"DotNet Developer\",\n",
        "            2: \"Automation Testing\",\n",
        "            17: \"Network Security Engineer\",\n",
        "            21: \"SAP Developer\",\n",
        "            5: \"Civil Engineer\",\n",
        "            0: \"Advocate\",\n",
        "}\n",
        "\n",
        "category_name=category_mapping.get(prediction_id)\n",
        "print('The resume belongs of',category_name)"
      ],
      "metadata": {
        "id": "DK7udrjFpvDK",
        "colab": {
          "base_uri": "https://localhost:8080/"
        },
        "outputId": "341a57b9-1c22-4b67-9692-f8de7c28076f"
      },
      "execution_count": null,
      "outputs": [
        {
          "output_type": "stream",
          "name": "stdout",
          "text": [
            "The resume belongs of Data Science\n"
          ]
        }
      ]
    },
    {
      "cell_type": "code",
      "source": [],
      "metadata": {
        "id": "hrELuVspHwod"
      },
      "execution_count": null,
      "outputs": []
    }
  ]
}